{
 "cells": [
  {
   "cell_type": "code",
   "execution_count": 1,
   "metadata": {
    "colab": {
     "base_uri": "https://localhost:8080/",
     "height": 173
    },
    "executionInfo": {
     "elapsed": 5924,
     "status": "ok",
     "timestamp": 1603019949071,
     "user": {
      "displayName": "Clara Tomasini",
      "photoUrl": "",
      "userId": "02923575374060854257"
     },
     "user_tz": -120
    },
    "id": "pMC6ITi1i9Xf",
    "outputId": "93a4a111-5538-445d-b512-103dae2530e1"
   },
   "outputs": [
    {
     "name": "stdout",
     "output_type": "stream",
     "text": [
      "Collecting ffmpeg\n",
      "  Downloading https://files.pythonhosted.org/packages/f0/cc/3b7408b8ecf7c1d20ad480c3eaed7619857bf1054b690226e906fdf14258/ffmpeg-1.4.tar.gz\n",
      "Building wheels for collected packages: ffmpeg\n",
      "  Building wheel for ffmpeg (setup.py) ... \u001b[?25l\u001b[?25hdone\n",
      "  Created wheel for ffmpeg: filename=ffmpeg-1.4-cp36-none-any.whl size=6083 sha256=35c54872461c2f536b79f4d271b08a65cd912ff465bd401732abdf7ae695691a\n",
      "  Stored in directory: /root/.cache/pip/wheels/b6/68/c3/a05a35f647ba871e5572b9bbfc0b95fd1c6637a2219f959e7a\n",
      "Successfully built ffmpeg\n",
      "Installing collected packages: ffmpeg\n",
      "Successfully installed ffmpeg-1.4\n"
     ]
    }
   ],
   "source": [
    "!pip install ffmpeg"
   ]
  },
  {
   "cell_type": "code",
   "execution_count": 5,
   "metadata": {
    "colab": {
     "base_uri": "https://localhost:8080/",
     "height": 34
    },
    "executionInfo": {
     "elapsed": 1054,
     "status": "ok",
     "timestamp": 1603019975484,
     "user": {
      "displayName": "Clara Tomasini",
      "photoUrl": "",
      "userId": "02923575374060854257"
     },
     "user_tz": -120
    },
    "id": "fRIJz-m5jIji",
    "outputId": "9450f3d0-2c2f-41e8-bc13-00376ad2eef3"
   },
   "outputs": [
    {
     "name": "stdout",
     "output_type": "stream",
     "text": [
      "/content/drive/Shared drives/TFM_Clara/6_robot-surgery-segmentation-master/data/video13_raw\n"
     ]
    }
   ],
   "source": [
    "import os, sys"
   ]
  },
  {
   "cell_type": "code",
   "execution_count": 6,
   "metadata": {
    "colab": {
     "base_uri": "https://localhost:8080/",
     "height": 34
    },
    "executionInfo": {
     "elapsed": 516190,
     "status": "ok",
     "timestamp": 1603022898579,
     "user": {
      "displayName": "Clara Tomasini",
      "photoUrl": "",
      "userId": "02923575374060854257"
     },
     "user_tz": -120
    },
    "id": "mxwhXuQbkCwK",
    "outputId": "eda7dd76-ba1f-4974-de0e-2c810b847b31"
   },
   "outputs": [
    {
     "data": {
      "text/plain": [
       "0"
      ]
     },
     "execution_count": 6,
     "metadata": {
      "tags": []
     },
     "output_type": "execute_result"
    }
   ],
   "source": [
    "os.system(\"ffmpeg -i Video13_intervalWithTools.mov -vf scale=1920:1056 frame_%04d.png\")"
   ]
  }
 ],
 "metadata": {
  "colab": {
   "authorship_tag": "ABX9TyMs73rwga10mC4+5PQAkb1U",
   "mount_file_id": "1iBoonFI1B2ETvzEpe_6teYyXe9dYlLBm",
   "name": "frames_video.ipynb",
   "provenance": []
  },
  "kernelspec": {
   "display_name": "Python 3",
   "language": "python",
   "name": "python3"
  },
  "language_info": {
   "codemirror_mode": {
    "name": "ipython",
    "version": 3
   },
   "file_extension": ".py",
   "mimetype": "text/x-python",
   "name": "python",
   "nbconvert_exporter": "python",
   "pygments_lexer": "ipython3",
   "version": "3.7.1"
  }
 },
 "nbformat": 4,
 "nbformat_minor": 1
}
