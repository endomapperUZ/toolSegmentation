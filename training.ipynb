{
 "cells": [
  {
   "cell_type": "code",
   "execution_count": 5,
   "metadata": {
    "colab": {},
    "colab_type": "code",
    "executionInfo": {
     "elapsed": 10524,
     "status": "ok",
     "timestamp": 1601398735276,
     "user": {
      "displayName": "Clara Tomasini",
      "photoUrl": "",
      "userId": "02923575374060854257"
     },
     "user_tz": -120
    },
    "id": "mImLMtUQ8Ffh"
   },
   "outputs": [],
   "source": [
    "from torch import nn\n",
    "from loss import LossBinary\n",
    "from torch.optim import Adam\n",
    "from torch.utils.data import DataLoader\n",
    "%matplotlib inline\n",
    "from pylab import *\n",
    "import cv2\n",
    "import torch\n",
    "from dataset import load_image\n",
    "from utils import cuda\n",
    "from generate_masks import get_model\n",
    "from albumentations import Compose, Normalize\n",
    "from albumentations.pytorch.functional import img_to_tensor\n",
    "from validation import validation_binary\n",
    "from dataset import RoboticsDataset\n",
    "import glob\n",
    "import matplotlib.pyplot as plt\n",
    "from torch.utils.data.dataset import Dataset  # For custom data-sets\n",
    "from torchvision import transforms\n",
    "from torchsummary import summary\n",
    "rcParams['figure.figsize'] = 10, 10"
   ]
  },
  {
   "cell_type": "code",
   "execution_count": 6,
   "metadata": {
    "colab": {},
    "colab_type": "code",
    "executionInfo": {
     "elapsed": 10213,
     "status": "ok",
     "timestamp": 1601398735279,
     "user": {
      "displayName": "Clara Tomasini",
      "photoUrl": "",
      "userId": "02923575374060854257"
     },
     "user_tz": -120
    },
    "id": "Fo8i87SRQbbI"
   },
   "outputs": [],
   "source": [
    "def img_transform(p=1):\n",
    "    return Compose([\n",
    "        Normalize(p=1)\n",
    "    ], p=p)\n"
   ]
  },
  {
   "cell_type": "code",
   "execution_count": 7,
   "metadata": {
    "colab": {},
    "colab_type": "code",
    "executionInfo": {
     "elapsed": 1337,
     "status": "ok",
     "timestamp": 1601398736630,
     "user": {
      "displayName": "Clara Tomasini",
      "photoUrl": "",
      "userId": "02923575374060854257"
     },
     "user_tz": -120
    },
    "id": "zgtNHqWRQbbL"
   },
   "outputs": [],
   "source": [
    "def mask_overlay(image, mask, color=(0, 255, 0)):\n",
    "    \"\"\"\n",
    "    Helper function to visualize mask on the top of the car\n",
    "    \"\"\"\n",
    "    mask = np.dstack((mask, mask, mask)) * np.array(color)\n",
    "    mask = mask.astype(np.uint8)\n",
    "    weighted_sum = cv2.addWeighted(mask, 0.5, image, 0.5, 0.)\n",
    "    img = image.copy()\n",
    "    ind = mask[:, :, 1] > 0    \n",
    "    img[ind] = weighted_sum[ind]    \n",
    "    return img"
   ]
  },
  {
   "cell_type": "code",
   "execution_count": 8,
   "metadata": {
    "colab": {},
    "colab_type": "code",
    "executionInfo": {
     "elapsed": 15777,
     "status": "ok",
     "timestamp": 1601398751077,
     "user": {
      "displayName": "Clara Tomasini",
      "photoUrl": "",
      "userId": "02923575374060854257"
     },
     "user_tz": -120
    },
    "id": "Wv_Sz_avU-YN"
   },
   "outputs": [],
   "source": [
    "model_path = 'data/models/unet11_binary_20/model_0.pt'\n",
    "model = get_model(model_path, model_type='UNet11', problem_type='binary')"
   ]
  },
  {
   "cell_type": "code",
   "execution_count": 9,
   "metadata": {
    "colab": {
     "base_uri": "https://localhost:8080/",
     "height": 1000
    },
    "colab_type": "code",
    "executionInfo": {
     "elapsed": 436061,
     "status": "ok",
     "timestamp": 1601399171371,
     "user": {
      "displayName": "Clara Tomasini",
      "photoUrl": "",
      "userId": "02923575374060854257"
     },
     "user_tz": -120
    },
    "id": "0iFAhCcLBZ7X",
    "outputId": "bf7610b3-e5b7-40e9-a1fc-13a896def9cf"
   },
   "outputs": [
    {
     "name": "stdout",
     "output_type": "stream",
     "text": [
      "1\n",
      "num train = 24, num_val = 16\n"
     ]
    },
    {
     "name": "stderr",
     "output_type": "stream",
     "text": [
      "Epoch 21, lr 0.0001:   0%|          | 0/24 [00:00<?, ?it/s]"
     ]
    },
    {
     "name": "stdout",
     "output_type": "stream",
     "text": [
      "Restored model, epoch 21, step 6,760\n"
     ]
    },
    {
     "name": "stderr",
     "output_type": "stream",
     "text": [
      "/usr/local/lib/python3.6/dist-packages/torch/nn/functional.py:1625: UserWarning: nn.functional.sigmoid is deprecated. Use torch.sigmoid instead.\n",
      "  warnings.warn(\"nn.functional.sigmoid is deprecated. Use torch.sigmoid instead.\")\n",
      "Epoch 21, lr 0.0001: 100%|██████████| 24/24 [00:07<00:00,  3.19it/s, loss=1.25873]\n",
      "Epoch 22, lr 0.0001:   0%|          | 0/24 [00:00<?, ?it/s]"
     ]
    },
    {
     "name": "stdout",
     "output_type": "stream",
     "text": [
      "Valid loss: 0.45432, jaccard: 0.57171\n"
     ]
    },
    {
     "name": "stderr",
     "output_type": "stream",
     "text": [
      "Epoch 22, lr 0.0001: 100%|██████████| 24/24 [00:02<00:00,  8.06it/s, loss=0.45361]\n",
      "Epoch 23, lr 0.0001:   0%|          | 0/24 [00:00<?, ?it/s]"
     ]
    },
    {
     "name": "stdout",
     "output_type": "stream",
     "text": [
      "Valid loss: 0.41059, jaccard: 0.62165\n"
     ]
    },
    {
     "name": "stderr",
     "output_type": "stream",
     "text": [
      "Epoch 23, lr 0.0001: 100%|██████████| 24/24 [00:03<00:00,  7.88it/s, loss=0.33882]\n",
      "Epoch 24, lr 0.0001:   0%|          | 0/24 [00:00<?, ?it/s]"
     ]
    },
    {
     "name": "stdout",
     "output_type": "stream",
     "text": [
      "Valid loss: 0.31884, jaccard: 0.63798\n"
     ]
    },
    {
     "name": "stderr",
     "output_type": "stream",
     "text": [
      "Epoch 24, lr 0.0001: 100%|██████████| 24/24 [00:03<00:00,  7.94it/s, loss=0.21377]\n",
      "Epoch 25, lr 0.0001:   0%|          | 0/24 [00:00<?, ?it/s]"
     ]
    },
    {
     "name": "stdout",
     "output_type": "stream",
     "text": [
      "Valid loss: 0.26810, jaccard: 0.63664\n"
     ]
    },
    {
     "name": "stderr",
     "output_type": "stream",
     "text": [
      "Epoch 25, lr 0.0001: 100%|██████████| 24/24 [00:03<00:00,  7.97it/s, loss=0.15073]\n",
      "Epoch 26, lr 0.0001:   0%|          | 0/24 [00:00<?, ?it/s]"
     ]
    },
    {
     "name": "stdout",
     "output_type": "stream",
     "text": [
      "Valid loss: 0.19819, jaccard: 0.71341\n"
     ]
    },
    {
     "name": "stderr",
     "output_type": "stream",
     "text": [
      "Epoch 26, lr 0.0001: 100%|██████████| 24/24 [00:02<00:00,  8.08it/s, loss=0.11610]\n",
      "Epoch 27, lr 0.0001:   0%|          | 0/24 [00:00<?, ?it/s]"
     ]
    },
    {
     "name": "stdout",
     "output_type": "stream",
     "text": [
      "Valid loss: 0.17517, jaccard: 0.73707\n"
     ]
    },
    {
     "name": "stderr",
     "output_type": "stream",
     "text": [
      "Epoch 27, lr 0.0001: 100%|██████████| 24/24 [00:03<00:00,  7.96it/s, loss=0.09223]\n",
      "Epoch 28, lr 0.0001:   0%|          | 0/24 [00:00<?, ?it/s]"
     ]
    },
    {
     "name": "stdout",
     "output_type": "stream",
     "text": [
      "Valid loss: 0.14572, jaccard: 0.77485\n"
     ]
    },
    {
     "name": "stderr",
     "output_type": "stream",
     "text": [
      "Epoch 28, lr 0.0001: 100%|██████████| 24/24 [00:03<00:00,  7.87it/s, loss=0.07360]\n",
      "Epoch 29, lr 0.0001:   0%|          | 0/24 [00:00<?, ?it/s]"
     ]
    },
    {
     "name": "stdout",
     "output_type": "stream",
     "text": [
      "Valid loss: 0.13723, jaccard: 0.78366\n"
     ]
    },
    {
     "name": "stderr",
     "output_type": "stream",
     "text": [
      "Epoch 29, lr 0.0001: 100%|██████████| 24/24 [00:03<00:00,  7.82it/s, loss=0.06466]\n",
      "Epoch 30, lr 0.0001:   0%|          | 0/24 [00:00<?, ?it/s]"
     ]
    },
    {
     "name": "stdout",
     "output_type": "stream",
     "text": [
      "Valid loss: 0.13643, jaccard: 0.78796\n"
     ]
    },
    {
     "name": "stderr",
     "output_type": "stream",
     "text": [
      "Epoch 30, lr 0.0001: 100%|██████████| 24/24 [00:03<00:00,  8.00it/s, loss=0.05561]\n",
      "Epoch 31, lr 1e-05:   0%|          | 0/24 [00:00<?, ?it/s]"
     ]
    },
    {
     "name": "stdout",
     "output_type": "stream",
     "text": [
      "Valid loss: 0.13010, jaccard: 0.79333\n",
      "num train = 24, num_val = 16\n",
      "Restored model, epoch 31, step 6,820\n"
     ]
    },
    {
     "name": "stderr",
     "output_type": "stream",
     "text": [
      "Epoch 31, lr 1e-05: 100%|██████████| 24/24 [00:03<00:00,  7.96it/s, loss=0.04996]\n",
      "Epoch 32, lr 1e-05:   0%|          | 0/24 [00:00<?, ?it/s]"
     ]
    },
    {
     "name": "stdout",
     "output_type": "stream",
     "text": [
      "Valid loss: 0.12376, jaccard: 0.80148\n"
     ]
    },
    {
     "name": "stderr",
     "output_type": "stream",
     "text": [
      "Epoch 32, lr 1e-05: 100%|██████████| 24/24 [00:03<00:00,  7.95it/s, loss=0.04551]\n",
      "Epoch 33, lr 1e-05:   0%|          | 0/24 [00:00<?, ?it/s]"
     ]
    },
    {
     "name": "stdout",
     "output_type": "stream",
     "text": [
      "Valid loss: 0.12253, jaccard: 0.80500\n"
     ]
    },
    {
     "name": "stderr",
     "output_type": "stream",
     "text": [
      "Epoch 33, lr 1e-05: 100%|██████████| 24/24 [00:02<00:00,  8.06it/s, loss=0.04118]\n",
      "Epoch 34, lr 1e-05:   0%|          | 0/24 [00:00<?, ?it/s]"
     ]
    },
    {
     "name": "stdout",
     "output_type": "stream",
     "text": [
      "Valid loss: 0.12561, jaccard: 0.80310\n"
     ]
    },
    {
     "name": "stderr",
     "output_type": "stream",
     "text": [
      "Epoch 34, lr 1e-05: 100%|██████████| 24/24 [00:03<00:00,  7.93it/s, loss=0.04117]\n",
      "Epoch 35, lr 1e-05:   0%|          | 0/24 [00:00<?, ?it/s]"
     ]
    },
    {
     "name": "stdout",
     "output_type": "stream",
     "text": [
      "Valid loss: 0.12154, jaccard: 0.80622\n"
     ]
    },
    {
     "name": "stderr",
     "output_type": "stream",
     "text": [
      "Epoch 35, lr 1e-05: 100%|██████████| 24/24 [00:02<00:00,  8.01it/s, loss=0.03587]\n",
      "Epoch 36, lr 1e-05:   0%|          | 0/24 [00:00<?, ?it/s]"
     ]
    },
    {
     "name": "stdout",
     "output_type": "stream",
     "text": [
      "Valid loss: 0.12223, jaccard: 0.80644\n"
     ]
    },
    {
     "name": "stderr",
     "output_type": "stream",
     "text": [
      "Epoch 36, lr 1e-05: 100%|██████████| 24/24 [00:02<00:00,  8.09it/s, loss=0.03492]\n",
      "Epoch 37, lr 1e-05:   0%|          | 0/24 [00:00<?, ?it/s]"
     ]
    },
    {
     "name": "stdout",
     "output_type": "stream",
     "text": [
      "Valid loss: 0.12282, jaccard: 0.80743\n"
     ]
    },
    {
     "name": "stderr",
     "output_type": "stream",
     "text": [
      "Epoch 37, lr 1e-05: 100%|██████████| 24/24 [00:03<00:00,  7.95it/s, loss=0.03291]\n",
      "Epoch 38, lr 1e-05:   0%|          | 0/24 [00:00<?, ?it/s]"
     ]
    },
    {
     "name": "stdout",
     "output_type": "stream",
     "text": [
      "Valid loss: 0.12110, jaccard: 0.81059\n"
     ]
    },
    {
     "name": "stderr",
     "output_type": "stream",
     "text": [
      "Epoch 38, lr 1e-05: 100%|██████████| 24/24 [00:03<00:00,  7.94it/s, loss=0.02996]\n",
      "Epoch 39, lr 1e-05:   0%|          | 0/24 [00:00<?, ?it/s]"
     ]
    },
    {
     "name": "stdout",
     "output_type": "stream",
     "text": [
      "Valid loss: 0.12083, jaccard: 0.81161\n"
     ]
    },
    {
     "name": "stderr",
     "output_type": "stream",
     "text": [
      "Epoch 39, lr 1e-05: 100%|██████████| 24/24 [00:03<00:00,  7.88it/s, loss=0.02836]\n",
      "Epoch 40, lr 1e-05:   0%|          | 0/24 [00:00<?, ?it/s]"
     ]
    },
    {
     "name": "stdout",
     "output_type": "stream",
     "text": [
      "Valid loss: 0.12043, jaccard: 0.81300\n"
     ]
    },
    {
     "name": "stderr",
     "output_type": "stream",
     "text": [
      "Epoch 40, lr 1e-05: 100%|██████████| 24/24 [00:03<00:00,  7.90it/s, loss=0.02759]\n"
     ]
    },
    {
     "name": "stdout",
     "output_type": "stream",
     "text": [
      "Valid loss: 0.12157, jaccard: 0.81217\n",
      "2\n"
     ]
    },
    {
     "name": "stderr",
     "output_type": "stream",
     "text": [
      "Epoch 41, lr 0.0001:   0%|          | 0/24 [00:00<?, ?it/s]"
     ]
    },
    {
     "name": "stdout",
     "output_type": "stream",
     "text": [
      "num train = 24, num_val = 16\n",
      "Restored model, epoch 41, step 6,880\n"
     ]
    },
    {
     "name": "stderr",
     "output_type": "stream",
     "text": [
      "Epoch 41, lr 0.0001: 100%|██████████| 24/24 [00:09<00:00,  2.63it/s, loss=0.32778]\n",
      "Epoch 42, lr 0.0001:   0%|          | 0/24 [00:00<?, ?it/s]"
     ]
    },
    {
     "name": "stdout",
     "output_type": "stream",
     "text": [
      "Valid loss: 0.25700, jaccard: 0.70542\n"
     ]
    },
    {
     "name": "stderr",
     "output_type": "stream",
     "text": [
      "Epoch 42, lr 0.0001: 100%|██████████| 24/24 [00:03<00:00,  7.93it/s, loss=0.19330]\n",
      "Epoch 43, lr 0.0001:   0%|          | 0/24 [00:00<?, ?it/s]"
     ]
    },
    {
     "name": "stdout",
     "output_type": "stream",
     "text": [
      "Valid loss: 0.19056, jaccard: 0.75480\n"
     ]
    },
    {
     "name": "stderr",
     "output_type": "stream",
     "text": [
      "Epoch 43, lr 0.0001: 100%|██████████| 24/24 [00:03<00:00,  7.92it/s, loss=0.12514]\n",
      "Epoch 44, lr 0.0001:   0%|          | 0/24 [00:00<?, ?it/s]"
     ]
    },
    {
     "name": "stdout",
     "output_type": "stream",
     "text": [
      "Valid loss: 0.31004, jaccard: 0.73416\n"
     ]
    },
    {
     "name": "stderr",
     "output_type": "stream",
     "text": [
      "Epoch 44, lr 0.0001: 100%|██████████| 24/24 [00:03<00:00,  7.81it/s, loss=0.09998]\n",
      "Epoch 45, lr 0.0001:   0%|          | 0/24 [00:00<?, ?it/s]"
     ]
    },
    {
     "name": "stdout",
     "output_type": "stream",
     "text": [
      "Valid loss: 0.21056, jaccard: 0.77906\n"
     ]
    },
    {
     "name": "stderr",
     "output_type": "stream",
     "text": [
      "Epoch 45, lr 0.0001: 100%|██████████| 24/24 [00:03<00:00,  7.90it/s, loss=0.08357]\n",
      "Epoch 46, lr 0.0001:   0%|          | 0/24 [00:00<?, ?it/s]"
     ]
    },
    {
     "name": "stdout",
     "output_type": "stream",
     "text": [
      "Valid loss: 0.17923, jaccard: 0.78354\n"
     ]
    },
    {
     "name": "stderr",
     "output_type": "stream",
     "text": [
      "Epoch 46, lr 0.0001: 100%|██████████| 24/24 [00:02<00:00,  8.01it/s, loss=0.06341]\n",
      "Epoch 47, lr 0.0001:   0%|          | 0/24 [00:00<?, ?it/s]"
     ]
    },
    {
     "name": "stdout",
     "output_type": "stream",
     "text": [
      "Valid loss: 0.17015, jaccard: 0.78306\n"
     ]
    },
    {
     "name": "stderr",
     "output_type": "stream",
     "text": [
      "Epoch 47, lr 0.0001: 100%|██████████| 24/24 [00:03<00:00,  7.93it/s, loss=0.04919]\n",
      "Epoch 48, lr 0.0001:   0%|          | 0/24 [00:00<?, ?it/s]"
     ]
    },
    {
     "name": "stdout",
     "output_type": "stream",
     "text": [
      "Valid loss: 0.12385, jaccard: 0.81146\n"
     ]
    },
    {
     "name": "stderr",
     "output_type": "stream",
     "text": [
      "Epoch 48, lr 0.0001: 100%|██████████| 24/24 [00:03<00:00,  7.87it/s, loss=0.04717]\n",
      "Epoch 49, lr 0.0001:   0%|          | 0/24 [00:00<?, ?it/s]"
     ]
    },
    {
     "name": "stdout",
     "output_type": "stream",
     "text": [
      "Valid loss: 0.11847, jaccard: 0.82265\n"
     ]
    },
    {
     "name": "stderr",
     "output_type": "stream",
     "text": [
      "Epoch 49, lr 0.0001: 100%|██████████| 24/24 [00:03<00:00,  7.95it/s, loss=0.03806]\n",
      "Epoch 50, lr 0.0001:   0%|          | 0/24 [00:00<?, ?it/s]"
     ]
    },
    {
     "name": "stdout",
     "output_type": "stream",
     "text": [
      "Valid loss: 0.11608, jaccard: 0.82578\n"
     ]
    },
    {
     "name": "stderr",
     "output_type": "stream",
     "text": [
      "Epoch 50, lr 0.0001: 100%|██████████| 24/24 [00:02<00:00,  8.02it/s, loss=0.03399]\n",
      "Epoch 51, lr 1e-05:   0%|          | 0/24 [00:00<?, ?it/s]"
     ]
    },
    {
     "name": "stdout",
     "output_type": "stream",
     "text": [
      "Valid loss: 0.11376, jaccard: 0.82799\n",
      "num train = 24, num_val = 16\n",
      "Restored model, epoch 51, step 6,940\n"
     ]
    },
    {
     "name": "stderr",
     "output_type": "stream",
     "text": [
      "Epoch 51, lr 1e-05: 100%|██████████| 24/24 [00:02<00:00,  8.06it/s, loss=0.03081]\n",
      "Epoch 52, lr 1e-05:   0%|          | 0/24 [00:00<?, ?it/s]"
     ]
    },
    {
     "name": "stdout",
     "output_type": "stream",
     "text": [
      "Valid loss: 0.14249, jaccard: 0.80073\n"
     ]
    },
    {
     "name": "stderr",
     "output_type": "stream",
     "text": [
      "Epoch 52, lr 1e-05: 100%|██████████| 24/24 [00:03<00:00,  7.94it/s, loss=0.03041]\n",
      "Epoch 53, lr 1e-05:   0%|          | 0/24 [00:00<?, ?it/s]"
     ]
    },
    {
     "name": "stdout",
     "output_type": "stream",
     "text": [
      "Valid loss: 0.11911, jaccard: 0.82567\n"
     ]
    },
    {
     "name": "stderr",
     "output_type": "stream",
     "text": [
      "Epoch 53, lr 1e-05: 100%|██████████| 24/24 [00:03<00:00,  7.85it/s, loss=0.02923]\n",
      "Epoch 54, lr 1e-05:   0%|          | 0/24 [00:00<?, ?it/s]"
     ]
    },
    {
     "name": "stdout",
     "output_type": "stream",
     "text": [
      "Valid loss: 0.14512, jaccard: 0.80057\n"
     ]
    },
    {
     "name": "stderr",
     "output_type": "stream",
     "text": [
      "Epoch 54, lr 1e-05: 100%|██████████| 24/24 [00:03<00:00,  7.99it/s, loss=0.02792]\n",
      "Epoch 55, lr 1e-05:   0%|          | 0/24 [00:00<?, ?it/s]"
     ]
    },
    {
     "name": "stdout",
     "output_type": "stream",
     "text": [
      "Valid loss: 0.14704, jaccard: 0.79991\n"
     ]
    },
    {
     "name": "stderr",
     "output_type": "stream",
     "text": [
      "Epoch 55, lr 1e-05: 100%|██████████| 24/24 [00:03<00:00,  7.95it/s, loss=0.02662]\n",
      "Epoch 56, lr 1e-05:   0%|          | 0/24 [00:00<?, ?it/s]"
     ]
    },
    {
     "name": "stdout",
     "output_type": "stream",
     "text": [
      "Valid loss: 0.13751, jaccard: 0.80940\n"
     ]
    },
    {
     "name": "stderr",
     "output_type": "stream",
     "text": [
      "Epoch 56, lr 1e-05: 100%|██████████| 24/24 [00:03<00:00,  7.94it/s, loss=0.02532]\n",
      "Epoch 57, lr 1e-05:   0%|          | 0/24 [00:00<?, ?it/s]"
     ]
    },
    {
     "name": "stdout",
     "output_type": "stream",
     "text": [
      "Valid loss: 0.15597, jaccard: 0.79349\n"
     ]
    },
    {
     "name": "stderr",
     "output_type": "stream",
     "text": [
      "Epoch 57, lr 1e-05: 100%|██████████| 24/24 [00:03<00:00,  7.95it/s, loss=0.02455]\n",
      "Epoch 58, lr 1e-05:   0%|          | 0/24 [00:00<?, ?it/s]"
     ]
    },
    {
     "name": "stdout",
     "output_type": "stream",
     "text": [
      "Valid loss: 0.15242, jaccard: 0.79923\n"
     ]
    },
    {
     "name": "stderr",
     "output_type": "stream",
     "text": [
      "Epoch 58, lr 1e-05: 100%|██████████| 24/24 [00:03<00:00,  7.89it/s, loss=0.02309]\n",
      "Epoch 59, lr 1e-05:   0%|          | 0/24 [00:00<?, ?it/s]"
     ]
    },
    {
     "name": "stdout",
     "output_type": "stream",
     "text": [
      "Valid loss: 0.15782, jaccard: 0.79650\n"
     ]
    },
    {
     "name": "stderr",
     "output_type": "stream",
     "text": [
      "Epoch 59, lr 1e-05: 100%|██████████| 24/24 [00:02<00:00,  8.06it/s, loss=0.02264]\n",
      "Epoch 60, lr 1e-05:   0%|          | 0/24 [00:00<?, ?it/s]"
     ]
    },
    {
     "name": "stdout",
     "output_type": "stream",
     "text": [
      "Valid loss: 0.15692, jaccard: 0.79781\n"
     ]
    },
    {
     "name": "stderr",
     "output_type": "stream",
     "text": [
      "Epoch 60, lr 1e-05: 100%|██████████| 24/24 [00:02<00:00,  8.03it/s, loss=0.02122]\n"
     ]
    },
    {
     "name": "stdout",
     "output_type": "stream",
     "text": [
      "Valid loss: 0.16025, jaccard: 0.79630\n",
      "3\n"
     ]
    },
    {
     "name": "stderr",
     "output_type": "stream",
     "text": [
      "Epoch 61, lr 0.0001:   0%|          | 0/24 [00:00<?, ?it/s]"
     ]
    },
    {
     "name": "stdout",
     "output_type": "stream",
     "text": [
      "num train = 24, num_val = 16\n",
      "Restored model, epoch 61, step 7,000\n"
     ]
    },
    {
     "name": "stderr",
     "output_type": "stream",
     "text": [
      "Epoch 61, lr 0.0001: 100%|██████████| 24/24 [00:07<00:00,  3.00it/s, loss=0.16007]\n",
      "Epoch 62, lr 0.0001:   0%|          | 0/24 [00:00<?, ?it/s]"
     ]
    },
    {
     "name": "stdout",
     "output_type": "stream",
     "text": [
      "Valid loss: 0.16204, jaccard: 0.78417\n"
     ]
    },
    {
     "name": "stderr",
     "output_type": "stream",
     "text": [
      "Epoch 62, lr 0.0001: 100%|██████████| 24/24 [00:02<00:00,  8.08it/s, loss=0.07950]\n",
      "Epoch 63, lr 0.0001:   0%|          | 0/24 [00:00<?, ?it/s]"
     ]
    },
    {
     "name": "stdout",
     "output_type": "stream",
     "text": [
      "Valid loss: 0.18805, jaccard: 0.77543\n"
     ]
    },
    {
     "name": "stderr",
     "output_type": "stream",
     "text": [
      "Epoch 63, lr 0.0001: 100%|██████████| 24/24 [00:03<00:00,  7.90it/s, loss=0.05618]\n",
      "Epoch 64, lr 0.0001:   0%|          | 0/24 [00:00<?, ?it/s]"
     ]
    },
    {
     "name": "stdout",
     "output_type": "stream",
     "text": [
      "Valid loss: 0.16687, jaccard: 0.79455\n"
     ]
    },
    {
     "name": "stderr",
     "output_type": "stream",
     "text": [
      "Epoch 64, lr 0.0001: 100%|██████████| 24/24 [00:03<00:00,  7.90it/s, loss=0.04543]\n",
      "Epoch 65, lr 0.0001:   0%|          | 0/24 [00:00<?, ?it/s]"
     ]
    },
    {
     "name": "stdout",
     "output_type": "stream",
     "text": [
      "Valid loss: 0.17414, jaccard: 0.80116\n"
     ]
    },
    {
     "name": "stderr",
     "output_type": "stream",
     "text": [
      "Epoch 65, lr 0.0001: 100%|██████████| 24/24 [00:03<00:00,  8.00it/s, loss=0.03760]\n",
      "Epoch 66, lr 0.0001:   0%|          | 0/24 [00:00<?, ?it/s]"
     ]
    },
    {
     "name": "stdout",
     "output_type": "stream",
     "text": [
      "Valid loss: 0.18436, jaccard: 0.80841\n"
     ]
    },
    {
     "name": "stderr",
     "output_type": "stream",
     "text": [
      "Epoch 66, lr 0.0001: 100%|██████████| 24/24 [00:03<00:00,  7.92it/s, loss=0.03474]\n",
      "Epoch 67, lr 0.0001:   0%|          | 0/24 [00:00<?, ?it/s]"
     ]
    },
    {
     "name": "stdout",
     "output_type": "stream",
     "text": [
      "Valid loss: 0.18457, jaccard: 0.80827\n"
     ]
    },
    {
     "name": "stderr",
     "output_type": "stream",
     "text": [
      "Epoch 67, lr 0.0001: 100%|██████████| 24/24 [00:03<00:00,  7.96it/s, loss=0.03111]\n",
      "Epoch 68, lr 0.0001:   0%|          | 0/24 [00:00<?, ?it/s]"
     ]
    },
    {
     "name": "stdout",
     "output_type": "stream",
     "text": [
      "Valid loss: 0.17354, jaccard: 0.81171\n"
     ]
    },
    {
     "name": "stderr",
     "output_type": "stream",
     "text": [
      "Epoch 68, lr 0.0001: 100%|██████████| 24/24 [00:03<00:00,  7.91it/s, loss=0.02823]\n",
      "Epoch 69, lr 0.0001:   0%|          | 0/24 [00:00<?, ?it/s]"
     ]
    },
    {
     "name": "stdout",
     "output_type": "stream",
     "text": [
      "Valid loss: 0.17346, jaccard: 0.81861\n"
     ]
    },
    {
     "name": "stderr",
     "output_type": "stream",
     "text": [
      "Epoch 69, lr 0.0001: 100%|██████████| 24/24 [00:03<00:00,  7.90it/s, loss=0.02539]\n",
      "Epoch 70, lr 0.0001:   0%|          | 0/24 [00:00<?, ?it/s]"
     ]
    },
    {
     "name": "stdout",
     "output_type": "stream",
     "text": [
      "Valid loss: 0.17120, jaccard: 0.81837\n"
     ]
    },
    {
     "name": "stderr",
     "output_type": "stream",
     "text": [
      "Epoch 70, lr 0.0001: 100%|██████████| 24/24 [00:03<00:00,  7.94it/s, loss=0.02245]\n",
      "Epoch 71, lr 1e-05:   0%|          | 0/24 [00:00<?, ?it/s]"
     ]
    },
    {
     "name": "stdout",
     "output_type": "stream",
     "text": [
      "Valid loss: 0.18002, jaccard: 0.82083\n",
      "num train = 24, num_val = 16\n",
      "Restored model, epoch 71, step 7,060\n"
     ]
    },
    {
     "name": "stderr",
     "output_type": "stream",
     "text": [
      "Epoch 71, lr 1e-05: 100%|██████████| 24/24 [00:03<00:00,  7.89it/s, loss=0.02194]\n",
      "Epoch 72, lr 1e-05:   0%|          | 0/24 [00:00<?, ?it/s]"
     ]
    },
    {
     "name": "stdout",
     "output_type": "stream",
     "text": [
      "Valid loss: 0.18094, jaccard: 0.81925\n"
     ]
    },
    {
     "name": "stderr",
     "output_type": "stream",
     "text": [
      "Epoch 72, lr 1e-05: 100%|██████████| 24/24 [00:03<00:00,  7.95it/s, loss=0.02092]\n",
      "Epoch 73, lr 1e-05:   0%|          | 0/24 [00:00<?, ?it/s]"
     ]
    },
    {
     "name": "stdout",
     "output_type": "stream",
     "text": [
      "Valid loss: 0.19160, jaccard: 0.81894\n"
     ]
    },
    {
     "name": "stderr",
     "output_type": "stream",
     "text": [
      "Epoch 73, lr 1e-05: 100%|██████████| 24/24 [00:02<00:00,  8.08it/s, loss=0.02016]\n",
      "Epoch 74, lr 1e-05:   0%|          | 0/24 [00:00<?, ?it/s]"
     ]
    },
    {
     "name": "stdout",
     "output_type": "stream",
     "text": [
      "Valid loss: 0.18541, jaccard: 0.81480\n"
     ]
    },
    {
     "name": "stderr",
     "output_type": "stream",
     "text": [
      "Epoch 74, lr 1e-05: 100%|██████████| 24/24 [00:03<00:00,  7.90it/s, loss=0.01917]\n",
      "Epoch 75, lr 1e-05:   0%|          | 0/24 [00:00<?, ?it/s]"
     ]
    },
    {
     "name": "stdout",
     "output_type": "stream",
     "text": [
      "Valid loss: 0.19123, jaccard: 0.81604\n"
     ]
    },
    {
     "name": "stderr",
     "output_type": "stream",
     "text": [
      "Epoch 75, lr 1e-05: 100%|██████████| 24/24 [00:02<00:00,  8.02it/s, loss=0.01931]\n",
      "Epoch 76, lr 1e-05:   0%|          | 0/24 [00:00<?, ?it/s]"
     ]
    },
    {
     "name": "stdout",
     "output_type": "stream",
     "text": [
      "Valid loss: 0.19691, jaccard: 0.81901\n"
     ]
    },
    {
     "name": "stderr",
     "output_type": "stream",
     "text": [
      "Epoch 76, lr 1e-05: 100%|██████████| 24/24 [00:03<00:00,  7.91it/s, loss=0.01808]\n",
      "Epoch 77, lr 1e-05:   0%|          | 0/24 [00:00<?, ?it/s]"
     ]
    },
    {
     "name": "stdout",
     "output_type": "stream",
     "text": [
      "Valid loss: 0.19557, jaccard: 0.81886\n"
     ]
    },
    {
     "name": "stderr",
     "output_type": "stream",
     "text": [
      "Epoch 77, lr 1e-05: 100%|██████████| 24/24 [00:03<00:00,  7.90it/s, loss=0.01753]\n",
      "Epoch 78, lr 1e-05:   0%|          | 0/24 [00:00<?, ?it/s]"
     ]
    },
    {
     "name": "stdout",
     "output_type": "stream",
     "text": [
      "Valid loss: 0.20463, jaccard: 0.81929\n"
     ]
    },
    {
     "name": "stderr",
     "output_type": "stream",
     "text": [
      "Epoch 78, lr 1e-05: 100%|██████████| 24/24 [00:03<00:00,  7.86it/s, loss=0.01710]\n",
      "Epoch 79, lr 1e-05:   0%|          | 0/24 [00:00<?, ?it/s]"
     ]
    },
    {
     "name": "stdout",
     "output_type": "stream",
     "text": [
      "Valid loss: 0.20243, jaccard: 0.81874\n"
     ]
    },
    {
     "name": "stderr",
     "output_type": "stream",
     "text": [
      "Epoch 79, lr 1e-05: 100%|██████████| 24/24 [00:02<00:00,  8.15it/s, loss=0.01649]\n",
      "Epoch 80, lr 1e-05:   0%|          | 0/24 [00:00<?, ?it/s]"
     ]
    },
    {
     "name": "stdout",
     "output_type": "stream",
     "text": [
      "Valid loss: 0.20721, jaccard: 0.81879\n"
     ]
    },
    {
     "name": "stderr",
     "output_type": "stream",
     "text": [
      "Epoch 80, lr 1e-05: 100%|██████████| 24/24 [00:03<00:00,  7.98it/s, loss=0.01617]\n"
     ]
    },
    {
     "name": "stdout",
     "output_type": "stream",
     "text": [
      "Valid loss: 0.21161, jaccard: 0.81764\n",
      "4\n"
     ]
    },
    {
     "name": "stderr",
     "output_type": "stream",
     "text": [
      "Epoch 81, lr 0.0001:   0%|          | 0/24 [00:00<?, ?it/s]"
     ]
    },
    {
     "name": "stdout",
     "output_type": "stream",
     "text": [
      "num train = 24, num_val = 16\n",
      "Restored model, epoch 81, step 7,120\n"
     ]
    },
    {
     "name": "stderr",
     "output_type": "stream",
     "text": [
      "Epoch 81, lr 0.0001: 100%|██████████| 24/24 [00:07<00:00,  3.09it/s, loss=0.20628]\n",
      "Epoch 82, lr 0.0001:   0%|          | 0/24 [00:00<?, ?it/s]"
     ]
    },
    {
     "name": "stdout",
     "output_type": "stream",
     "text": [
      "Valid loss: 0.18667, jaccard: 0.73011\n"
     ]
    },
    {
     "name": "stderr",
     "output_type": "stream",
     "text": [
      "Epoch 82, lr 0.0001: 100%|██████████| 24/24 [00:02<00:00,  8.47it/s, loss=0.12104]\n",
      "Epoch 83, lr 0.0001:   0%|          | 0/24 [00:00<?, ?it/s]"
     ]
    },
    {
     "name": "stdout",
     "output_type": "stream",
     "text": [
      "Valid loss: 0.11837, jaccard: 0.84033\n"
     ]
    },
    {
     "name": "stderr",
     "output_type": "stream",
     "text": [
      "Epoch 83, lr 0.0001: 100%|██████████| 24/24 [00:03<00:00,  7.98it/s, loss=0.06953]\n",
      "Epoch 84, lr 0.0001:   0%|          | 0/24 [00:00<?, ?it/s]"
     ]
    },
    {
     "name": "stdout",
     "output_type": "stream",
     "text": [
      "Valid loss: 0.11443, jaccard: 0.81618\n"
     ]
    },
    {
     "name": "stderr",
     "output_type": "stream",
     "text": [
      "Epoch 84, lr 0.0001: 100%|██████████| 24/24 [00:03<00:00,  7.86it/s, loss=0.05396]\n",
      "Epoch 85, lr 0.0001:   0%|          | 0/24 [00:00<?, ?it/s]"
     ]
    },
    {
     "name": "stdout",
     "output_type": "stream",
     "text": [
      "Valid loss: 0.09868, jaccard: 0.83621\n"
     ]
    },
    {
     "name": "stderr",
     "output_type": "stream",
     "text": [
      "Epoch 85, lr 0.0001: 100%|██████████| 24/24 [00:02<00:00,  8.04it/s, loss=0.04358]\n",
      "Epoch 86, lr 0.0001:   0%|          | 0/24 [00:00<?, ?it/s]"
     ]
    },
    {
     "name": "stdout",
     "output_type": "stream",
     "text": [
      "Valid loss: 0.08285, jaccard: 0.86255\n"
     ]
    },
    {
     "name": "stderr",
     "output_type": "stream",
     "text": [
      "Epoch 86, lr 0.0001: 100%|██████████| 24/24 [00:02<00:00,  8.09it/s, loss=0.03749]\n",
      "Epoch 87, lr 0.0001:   0%|          | 0/24 [00:00<?, ?it/s]"
     ]
    },
    {
     "name": "stdout",
     "output_type": "stream",
     "text": [
      "Valid loss: 0.08089, jaccard: 0.86862\n"
     ]
    },
    {
     "name": "stderr",
     "output_type": "stream",
     "text": [
      "Epoch 87, lr 0.0001: 100%|██████████| 24/24 [00:03<00:00,  7.97it/s, loss=0.03414]\n",
      "Epoch 88, lr 0.0001:   0%|          | 0/24 [00:00<?, ?it/s]"
     ]
    },
    {
     "name": "stdout",
     "output_type": "stream",
     "text": [
      "Valid loss: 0.08252, jaccard: 0.87021\n"
     ]
    },
    {
     "name": "stderr",
     "output_type": "stream",
     "text": [
      "Epoch 88, lr 0.0001: 100%|██████████| 24/24 [00:03<00:00,  7.96it/s, loss=0.03159]\n",
      "Epoch 89, lr 0.0001:   0%|          | 0/24 [00:00<?, ?it/s]"
     ]
    },
    {
     "name": "stdout",
     "output_type": "stream",
     "text": [
      "Valid loss: 0.08079, jaccard: 0.87130\n"
     ]
    },
    {
     "name": "stderr",
     "output_type": "stream",
     "text": [
      "Epoch 89, lr 0.0001: 100%|██████████| 24/24 [00:03<00:00,  7.95it/s, loss=0.03053]\n",
      "Epoch 90, lr 0.0001:   0%|          | 0/24 [00:00<?, ?it/s]"
     ]
    },
    {
     "name": "stdout",
     "output_type": "stream",
     "text": [
      "Valid loss: 0.08294, jaccard: 0.87044\n"
     ]
    },
    {
     "name": "stderr",
     "output_type": "stream",
     "text": [
      "Epoch 90, lr 0.0001: 100%|██████████| 24/24 [00:03<00:00,  7.89it/s, loss=0.02827]\n",
      "Epoch 91, lr 1e-05:   0%|          | 0/24 [00:00<?, ?it/s]"
     ]
    },
    {
     "name": "stdout",
     "output_type": "stream",
     "text": [
      "Valid loss: 0.08834, jaccard: 0.86990\n",
      "num train = 24, num_val = 16\n",
      "Restored model, epoch 91, step 7,180\n"
     ]
    },
    {
     "name": "stderr",
     "output_type": "stream",
     "text": [
      "Epoch 91, lr 1e-05: 100%|██████████| 24/24 [00:03<00:00,  7.91it/s, loss=0.02729]\n",
      "Epoch 92, lr 1e-05:   0%|          | 0/24 [00:00<?, ?it/s]"
     ]
    },
    {
     "name": "stdout",
     "output_type": "stream",
     "text": [
      "Valid loss: 0.08447, jaccard: 0.86840\n"
     ]
    },
    {
     "name": "stderr",
     "output_type": "stream",
     "text": [
      "Epoch 92, lr 1e-05: 100%|██████████| 24/24 [00:02<00:00,  8.06it/s, loss=0.02701]\n",
      "Epoch 93, lr 1e-05:   0%|          | 0/24 [00:00<?, ?it/s]"
     ]
    },
    {
     "name": "stdout",
     "output_type": "stream",
     "text": [
      "Valid loss: 0.09117, jaccard: 0.86821\n"
     ]
    },
    {
     "name": "stderr",
     "output_type": "stream",
     "text": [
      "Epoch 93, lr 1e-05: 100%|██████████| 24/24 [00:02<00:00,  8.02it/s, loss=0.02492]\n",
      "Epoch 94, lr 1e-05:   0%|          | 0/24 [00:00<?, ?it/s]"
     ]
    },
    {
     "name": "stdout",
     "output_type": "stream",
     "text": [
      "Valid loss: 0.08698, jaccard: 0.86768\n"
     ]
    },
    {
     "name": "stderr",
     "output_type": "stream",
     "text": [
      "Epoch 94, lr 1e-05: 100%|██████████| 24/24 [00:02<00:00,  8.03it/s, loss=0.02369]\n",
      "Epoch 95, lr 1e-05:   0%|          | 0/24 [00:00<?, ?it/s]"
     ]
    },
    {
     "name": "stdout",
     "output_type": "stream",
     "text": [
      "Valid loss: 0.08830, jaccard: 0.86677\n"
     ]
    },
    {
     "name": "stderr",
     "output_type": "stream",
     "text": [
      "Epoch 95, lr 1e-05: 100%|██████████| 24/24 [00:02<00:00,  8.54it/s, loss=0.02364]\n",
      "Epoch 96, lr 1e-05:   0%|          | 0/24 [00:00<?, ?it/s]"
     ]
    },
    {
     "name": "stdout",
     "output_type": "stream",
     "text": [
      "Valid loss: 0.09234, jaccard: 0.86464\n"
     ]
    },
    {
     "name": "stderr",
     "output_type": "stream",
     "text": [
      "Epoch 96, lr 1e-05: 100%|██████████| 24/24 [00:03<00:00,  7.88it/s, loss=0.02245]\n",
      "Epoch 97, lr 1e-05:   0%|          | 0/24 [00:00<?, ?it/s]"
     ]
    },
    {
     "name": "stdout",
     "output_type": "stream",
     "text": [
      "Valid loss: 0.09281, jaccard: 0.86415\n"
     ]
    },
    {
     "name": "stderr",
     "output_type": "stream",
     "text": [
      "Epoch 97, lr 1e-05: 100%|██████████| 24/24 [00:03<00:00,  7.92it/s, loss=0.02200]\n",
      "Epoch 98, lr 1e-05:   0%|          | 0/24 [00:00<?, ?it/s]"
     ]
    },
    {
     "name": "stdout",
     "output_type": "stream",
     "text": [
      "Valid loss: 0.09547, jaccard: 0.86334\n"
     ]
    },
    {
     "name": "stderr",
     "output_type": "stream",
     "text": [
      "Epoch 98, lr 1e-05: 100%|██████████| 24/24 [00:03<00:00,  7.77it/s, loss=0.02126]\n",
      "Epoch 99, lr 1e-05:   0%|          | 0/24 [00:00<?, ?it/s]"
     ]
    },
    {
     "name": "stdout",
     "output_type": "stream",
     "text": [
      "Valid loss: 0.09643, jaccard: 0.86318\n"
     ]
    },
    {
     "name": "stderr",
     "output_type": "stream",
     "text": [
      "Epoch 99, lr 1e-05: 100%|██████████| 24/24 [00:02<00:00,  8.19it/s, loss=0.02028]\n",
      "Epoch 100, lr 1e-05:   0%|          | 0/24 [00:00<?, ?it/s]"
     ]
    },
    {
     "name": "stdout",
     "output_type": "stream",
     "text": [
      "Valid loss: 0.09685, jaccard: 0.86345\n"
     ]
    },
    {
     "name": "stderr",
     "output_type": "stream",
     "text": [
      "Epoch 100, lr 1e-05: 100%|██████████| 24/24 [00:03<00:00,  7.96it/s, loss=0.02004]\n"
     ]
    },
    {
     "name": "stdout",
     "output_type": "stream",
     "text": [
      "Valid loss: 0.09783, jaccard: 0.86389\n"
     ]
    }
   ],
   "source": [
    "from train_ft import train\n",
    "\n",
    "jaccard_weight = 0.3\n",
    "#fold = 1\n",
    "root = !pwd\n",
    "root = root[0]\n",
    "batch_size = 4\n",
    "n_epochs = 20\n",
    "lr1 = 0.0001\n",
    "lr2 = 0.00001\n",
    "num_workers = 12\n",
    "train_size = 0.6\n",
    "for fold in range(1,5) :\n",
    "  print(fold)\n",
    "  train(model, \"unet11\", 0, \"ent\", jaccard_weight, fold, root, batch_size, n_epochs+10, lr1, num_workers, 1, train_size)\n",
    "  train(model, \"unet11\", 0, \"ent\", jaccard_weight, fold, root, batch_size, n_epochs+20, lr2, num_workers, 1, train_size)\n",
    "  n_epochs = n_epochs+20"
   ]
  },
  {
   "cell_type": "code",
   "execution_count": 15,
   "metadata": {
    "colab": {},
    "colab_type": "code",
    "executionInfo": {
     "elapsed": 574,
     "status": "ok",
     "timestamp": 1601399231223,
     "user": {
      "displayName": "Clara Tomasini",
      "photoUrl": "",
      "userId": "02923575374060854257"
     },
     "user_tz": -120
    },
    "id": "1pBW1gHjt7uR"
   },
   "outputs": [],
   "source": [
    "for param in model.parameters():\n",
    "  param.requires_grad = False\n",
    "  #print(param.requires_grad)\n",
    "for p in model.final.parameters():\n",
    "  p.requires_grad = True\n",
    "  #print(p.requires_grad)"
   ]
  },
  {
   "cell_type": "code",
   "execution_count": 16,
   "metadata": {
    "colab": {
     "base_uri": "https://localhost:8080/",
     "height": 1000
    },
    "colab_type": "code",
    "executionInfo": {
     "elapsed": 282673,
     "status": "ok",
     "timestamp": 1601399516324,
     "user": {
      "displayName": "Clara Tomasini",
      "photoUrl": "",
      "userId": "02923575374060854257"
     },
     "user_tz": -120
    },
    "id": "dZGgrAWJs02_",
    "outputId": "8ef9d3df-ede7-47a3-a257-86c78bf24086"
   },
   "outputs": [
    {
     "name": "stderr",
     "output_type": "stream",
     "text": [
      "Epoch 21, lr 0.0001:   0%|          | 0/24 [00:00<?, ?it/s]"
     ]
    },
    {
     "name": "stdout",
     "output_type": "stream",
     "text": [
      "1\n",
      "num train = 24, num_val = 16\n",
      "Restored model, epoch 21, step 6,760\n"
     ]
    },
    {
     "name": "stderr",
     "output_type": "stream",
     "text": [
      "/usr/local/lib/python3.6/dist-packages/torch/nn/functional.py:1625: UserWarning: nn.functional.sigmoid is deprecated. Use torch.sigmoid instead.\n",
      "  warnings.warn(\"nn.functional.sigmoid is deprecated. Use torch.sigmoid instead.\")\n",
      "Epoch 21, lr 0.0001: 100%|██████████| 24/24 [00:01<00:00, 14.59it/s, loss=3.69860]\n",
      "Epoch 22, lr 0.0001:   0%|          | 0/24 [00:00<?, ?it/s]"
     ]
    },
    {
     "name": "stdout",
     "output_type": "stream",
     "text": [
      "Valid loss: 3.83955, jaccard: 0.12402\n"
     ]
    },
    {
     "name": "stderr",
     "output_type": "stream",
     "text": [
      "Epoch 22, lr 0.0001: 100%|██████████| 24/24 [00:01<00:00, 14.13it/s, loss=3.68930]\n",
      "Epoch 23, lr 0.0001:   0%|          | 0/24 [00:00<?, ?it/s]"
     ]
    },
    {
     "name": "stdout",
     "output_type": "stream",
     "text": [
      "Valid loss: 3.82309, jaccard: 0.12403\n"
     ]
    },
    {
     "name": "stderr",
     "output_type": "stream",
     "text": [
      "Epoch 23, lr 0.0001: 100%|██████████| 24/24 [00:01<00:00, 14.48it/s, loss=3.64679]\n",
      "Epoch 24, lr 0.0001:   0%|          | 0/24 [00:00<?, ?it/s]"
     ]
    },
    {
     "name": "stdout",
     "output_type": "stream",
     "text": [
      "Valid loss: 3.80657, jaccard: 0.12403\n"
     ]
    },
    {
     "name": "stderr",
     "output_type": "stream",
     "text": [
      "Epoch 24, lr 0.0001: 100%|██████████| 24/24 [00:01<00:00, 13.66it/s, loss=3.63408]\n",
      "Epoch 25, lr 0.0001:   0%|          | 0/24 [00:00<?, ?it/s]"
     ]
    },
    {
     "name": "stdout",
     "output_type": "stream",
     "text": [
      "Valid loss: 3.79028, jaccard: 0.12404\n"
     ]
    },
    {
     "name": "stderr",
     "output_type": "stream",
     "text": [
      "Epoch 25, lr 0.0001: 100%|██████████| 24/24 [00:01<00:00, 14.36it/s, loss=3.59642]\n",
      "Epoch 26, lr 0.0001:   0%|          | 0/24 [00:00<?, ?it/s]"
     ]
    },
    {
     "name": "stdout",
     "output_type": "stream",
     "text": [
      "Valid loss: 3.77382, jaccard: 0.12404\n"
     ]
    },
    {
     "name": "stderr",
     "output_type": "stream",
     "text": [
      "Epoch 26, lr 0.0001: 100%|██████████| 24/24 [00:01<00:00, 14.33it/s, loss=3.59762]\n",
      "Epoch 27, lr 0.0001:   0%|          | 0/24 [00:00<?, ?it/s]"
     ]
    },
    {
     "name": "stdout",
     "output_type": "stream",
     "text": [
      "Valid loss: 3.75704, jaccard: 0.12404\n"
     ]
    },
    {
     "name": "stderr",
     "output_type": "stream",
     "text": [
      "Epoch 27, lr 0.0001: 100%|██████████| 24/24 [00:01<00:00, 13.53it/s, loss=3.57812]\n",
      "Epoch 28, lr 0.0001:   0%|          | 0/24 [00:00<?, ?it/s]"
     ]
    },
    {
     "name": "stdout",
     "output_type": "stream",
     "text": [
      "Valid loss: 3.74065, jaccard: 0.12405\n"
     ]
    },
    {
     "name": "stderr",
     "output_type": "stream",
     "text": [
      "Epoch 28, lr 0.0001: 100%|██████████| 24/24 [00:01<00:00, 14.33it/s, loss=3.56302]\n",
      "Epoch 29, lr 0.0001:   0%|          | 0/24 [00:00<?, ?it/s]"
     ]
    },
    {
     "name": "stdout",
     "output_type": "stream",
     "text": [
      "Valid loss: 3.72412, jaccard: 0.12405\n"
     ]
    },
    {
     "name": "stderr",
     "output_type": "stream",
     "text": [
      "Epoch 29, lr 0.0001: 100%|██████████| 24/24 [00:01<00:00, 14.45it/s, loss=3.55234]\n",
      "Epoch 30, lr 0.0001:   0%|          | 0/24 [00:00<?, ?it/s]"
     ]
    },
    {
     "name": "stdout",
     "output_type": "stream",
     "text": [
      "Valid loss: 3.70757, jaccard: 0.12406\n"
     ]
    },
    {
     "name": "stderr",
     "output_type": "stream",
     "text": [
      "Epoch 30, lr 0.0001: 100%|██████████| 24/24 [00:01<00:00, 14.06it/s, loss=3.53286]\n",
      "Epoch 31, lr 1e-05:   0%|          | 0/24 [00:00<?, ?it/s]"
     ]
    },
    {
     "name": "stdout",
     "output_type": "stream",
     "text": [
      "Valid loss: 3.69122, jaccard: 0.12406\n",
      "num train = 24, num_val = 16\n",
      "Restored model, epoch 31, step 6,820\n"
     ]
    },
    {
     "name": "stderr",
     "output_type": "stream",
     "text": [
      "Epoch 31, lr 1e-05: 100%|██████████| 24/24 [00:01<00:00, 14.32it/s, loss=3.54293]\n",
      "Epoch 32, lr 1e-05:   0%|          | 0/24 [00:00<?, ?it/s]"
     ]
    },
    {
     "name": "stdout",
     "output_type": "stream",
     "text": [
      "Valid loss: 3.68959, jaccard: 0.12406\n"
     ]
    },
    {
     "name": "stderr",
     "output_type": "stream",
     "text": [
      "Epoch 32, lr 1e-05: 100%|██████████| 24/24 [00:01<00:00, 14.35it/s, loss=3.51788]\n",
      "Epoch 33, lr 1e-05:   0%|          | 0/24 [00:00<?, ?it/s]"
     ]
    },
    {
     "name": "stdout",
     "output_type": "stream",
     "text": [
      "Valid loss: 3.68795, jaccard: 0.12406\n"
     ]
    },
    {
     "name": "stderr",
     "output_type": "stream",
     "text": [
      "Epoch 33, lr 1e-05: 100%|██████████| 24/24 [00:01<00:00, 14.05it/s, loss=3.52607]\n",
      "Epoch 34, lr 1e-05:   0%|          | 0/24 [00:00<?, ?it/s]"
     ]
    },
    {
     "name": "stdout",
     "output_type": "stream",
     "text": [
      "Valid loss: 3.68632, jaccard: 0.12406\n"
     ]
    },
    {
     "name": "stderr",
     "output_type": "stream",
     "text": [
      "Epoch 34, lr 1e-05: 100%|██████████| 24/24 [00:01<00:00, 14.17it/s, loss=3.53357]\n",
      "Epoch 35, lr 1e-05:   0%|          | 0/24 [00:00<?, ?it/s]"
     ]
    },
    {
     "name": "stdout",
     "output_type": "stream",
     "text": [
      "Valid loss: 3.68466, jaccard: 0.12406\n"
     ]
    },
    {
     "name": "stderr",
     "output_type": "stream",
     "text": [
      "Epoch 35, lr 1e-05: 100%|██████████| 24/24 [00:01<00:00, 14.43it/s, loss=3.51804]\n",
      "Epoch 36, lr 1e-05:   0%|          | 0/24 [00:00<?, ?it/s]"
     ]
    },
    {
     "name": "stdout",
     "output_type": "stream",
     "text": [
      "Valid loss: 3.68303, jaccard: 0.12406\n"
     ]
    },
    {
     "name": "stderr",
     "output_type": "stream",
     "text": [
      "Epoch 36, lr 1e-05: 100%|██████████| 24/24 [00:01<00:00, 13.99it/s, loss=3.51146]\n",
      "Epoch 37, lr 1e-05:   0%|          | 0/24 [00:00<?, ?it/s]"
     ]
    },
    {
     "name": "stdout",
     "output_type": "stream",
     "text": [
      "Valid loss: 3.68135, jaccard: 0.12406\n"
     ]
    },
    {
     "name": "stderr",
     "output_type": "stream",
     "text": [
      "Epoch 37, lr 1e-05: 100%|██████████| 24/24 [00:01<00:00, 14.20it/s, loss=3.52972]\n",
      "Epoch 38, lr 1e-05:   0%|          | 0/24 [00:00<?, ?it/s]"
     ]
    },
    {
     "name": "stdout",
     "output_type": "stream",
     "text": [
      "Valid loss: 3.67971, jaccard: 0.12406\n"
     ]
    },
    {
     "name": "stderr",
     "output_type": "stream",
     "text": [
      "Epoch 38, lr 1e-05: 100%|██████████| 24/24 [00:01<00:00, 14.51it/s, loss=3.50513]\n",
      "Epoch 39, lr 1e-05:   0%|          | 0/24 [00:00<?, ?it/s]"
     ]
    },
    {
     "name": "stdout",
     "output_type": "stream",
     "text": [
      "Valid loss: 3.67804, jaccard: 0.12406\n"
     ]
    },
    {
     "name": "stderr",
     "output_type": "stream",
     "text": [
      "Epoch 39, lr 1e-05: 100%|██████████| 24/24 [00:01<00:00, 14.05it/s, loss=3.52819]\n",
      "Epoch 40, lr 1e-05:   0%|          | 0/24 [00:00<?, ?it/s]"
     ]
    },
    {
     "name": "stdout",
     "output_type": "stream",
     "text": [
      "Valid loss: 3.67640, jaccard: 0.12406\n"
     ]
    },
    {
     "name": "stderr",
     "output_type": "stream",
     "text": [
      "Epoch 40, lr 1e-05: 100%|██████████| 24/24 [00:01<00:00, 14.35it/s, loss=3.51094]\n",
      "Epoch 41, lr 0.0001:   0%|          | 0/24 [00:00<?, ?it/s]"
     ]
    },
    {
     "name": "stdout",
     "output_type": "stream",
     "text": [
      "Valid loss: 3.67475, jaccard: 0.12407\n",
      "2\n",
      "num train = 24, num_val = 16\n",
      "Restored model, epoch 41, step 6,880\n"
     ]
    },
    {
     "name": "stderr",
     "output_type": "stream",
     "text": [
      "Epoch 41, lr 0.0001: 100%|██████████| 24/24 [00:01<00:00, 13.90it/s, loss=2.82695]\n",
      "Epoch 42, lr 0.0001:   0%|          | 0/24 [00:00<?, ?it/s]"
     ]
    },
    {
     "name": "stdout",
     "output_type": "stream",
     "text": [
      "Valid loss: 2.64188, jaccard: 0.14676\n"
     ]
    },
    {
     "name": "stderr",
     "output_type": "stream",
     "text": [
      "Epoch 42, lr 0.0001: 100%|██████████| 24/24 [00:01<00:00, 13.75it/s, loss=2.81927]\n",
      "Epoch 43, lr 0.0001:   0%|          | 0/24 [00:00<?, ?it/s]"
     ]
    },
    {
     "name": "stdout",
     "output_type": "stream",
     "text": [
      "Valid loss: 2.63147, jaccard: 0.14676\n"
     ]
    },
    {
     "name": "stderr",
     "output_type": "stream",
     "text": [
      "Epoch 43, lr 0.0001: 100%|██████████| 24/24 [00:01<00:00, 14.59it/s, loss=2.82466]\n",
      "Epoch 44, lr 0.0001:   0%|          | 0/24 [00:00<?, ?it/s]"
     ]
    },
    {
     "name": "stdout",
     "output_type": "stream",
     "text": [
      "Valid loss: 2.62102, jaccard: 0.14677\n"
     ]
    },
    {
     "name": "stderr",
     "output_type": "stream",
     "text": [
      "Epoch 44, lr 0.0001: 100%|██████████| 24/24 [00:01<00:00, 13.53it/s, loss=2.81438]\n",
      "Epoch 45, lr 0.0001:   0%|          | 0/24 [00:00<?, ?it/s]"
     ]
    },
    {
     "name": "stdout",
     "output_type": "stream",
     "text": [
      "Valid loss: 2.61037, jaccard: 0.14677\n"
     ]
    },
    {
     "name": "stderr",
     "output_type": "stream",
     "text": [
      "Epoch 45, lr 0.0001: 100%|██████████| 24/24 [00:01<00:00, 14.55it/s, loss=2.80687]\n",
      "Epoch 46, lr 0.0001:   0%|          | 0/24 [00:00<?, ?it/s]"
     ]
    },
    {
     "name": "stdout",
     "output_type": "stream",
     "text": [
      "Valid loss: 2.59977, jaccard: 0.14677\n"
     ]
    },
    {
     "name": "stderr",
     "output_type": "stream",
     "text": [
      "Epoch 46, lr 0.0001: 100%|██████████| 24/24 [00:01<00:00, 14.86it/s, loss=2.78802]\n",
      "Epoch 47, lr 0.0001:   0%|          | 0/24 [00:00<?, ?it/s]"
     ]
    },
    {
     "name": "stdout",
     "output_type": "stream",
     "text": [
      "Valid loss: 2.58903, jaccard: 0.14678\n"
     ]
    },
    {
     "name": "stderr",
     "output_type": "stream",
     "text": [
      "Epoch 47, lr 0.0001: 100%|██████████| 24/24 [00:01<00:00, 13.99it/s, loss=2.79146]\n",
      "Epoch 48, lr 0.0001:   0%|          | 0/24 [00:00<?, ?it/s]"
     ]
    },
    {
     "name": "stdout",
     "output_type": "stream",
     "text": [
      "Valid loss: 2.57832, jaccard: 0.14678\n"
     ]
    },
    {
     "name": "stderr",
     "output_type": "stream",
     "text": [
      "Epoch 48, lr 0.0001: 100%|██████████| 24/24 [00:01<00:00, 14.64it/s, loss=2.77224]\n",
      "Epoch 49, lr 0.0001:   0%|          | 0/24 [00:00<?, ?it/s]"
     ]
    },
    {
     "name": "stdout",
     "output_type": "stream",
     "text": [
      "Valid loss: 2.56771, jaccard: 0.14679\n"
     ]
    },
    {
     "name": "stderr",
     "output_type": "stream",
     "text": [
      "Epoch 49, lr 0.0001: 100%|██████████| 24/24 [00:01<00:00, 14.25it/s, loss=2.74698]\n",
      "Epoch 50, lr 0.0001:   0%|          | 0/24 [00:00<?, ?it/s]"
     ]
    },
    {
     "name": "stdout",
     "output_type": "stream",
     "text": [
      "Valid loss: 2.55701, jaccard: 0.14679\n"
     ]
    },
    {
     "name": "stderr",
     "output_type": "stream",
     "text": [
      "Epoch 50, lr 0.0001: 100%|██████████| 24/24 [00:01<00:00, 14.20it/s, loss=2.72064]\n",
      "Epoch 51, lr 1e-05:   0%|          | 0/24 [00:00<?, ?it/s]"
     ]
    },
    {
     "name": "stdout",
     "output_type": "stream",
     "text": [
      "Valid loss: 2.54653, jaccard: 0.14680\n",
      "num train = 24, num_val = 16\n",
      "Restored model, epoch 51, step 6,940\n"
     ]
    },
    {
     "name": "stderr",
     "output_type": "stream",
     "text": [
      "Epoch 51, lr 1e-05: 100%|██████████| 24/24 [00:01<00:00, 13.17it/s, loss=2.72725]\n",
      "Epoch 52, lr 1e-05:   0%|          | 0/24 [00:00<?, ?it/s]"
     ]
    },
    {
     "name": "stdout",
     "output_type": "stream",
     "text": [
      "Valid loss: 2.54545, jaccard: 0.14680\n"
     ]
    },
    {
     "name": "stderr",
     "output_type": "stream",
     "text": [
      "Epoch 52, lr 1e-05: 100%|██████████| 24/24 [00:01<00:00, 14.06it/s, loss=2.72147]\n",
      "Epoch 53, lr 1e-05:   0%|          | 0/24 [00:00<?, ?it/s]"
     ]
    },
    {
     "name": "stdout",
     "output_type": "stream",
     "text": [
      "Valid loss: 2.54438, jaccard: 0.14680\n"
     ]
    },
    {
     "name": "stderr",
     "output_type": "stream",
     "text": [
      "Epoch 53, lr 1e-05: 100%|██████████| 24/24 [00:01<00:00, 13.67it/s, loss=2.73425]\n",
      "Epoch 54, lr 1e-05:   0%|          | 0/24 [00:00<?, ?it/s]"
     ]
    },
    {
     "name": "stdout",
     "output_type": "stream",
     "text": [
      "Valid loss: 2.54330, jaccard: 0.14680\n"
     ]
    },
    {
     "name": "stderr",
     "output_type": "stream",
     "text": [
      "Epoch 54, lr 1e-05: 100%|██████████| 24/24 [00:01<00:00, 14.03it/s, loss=2.73747]\n",
      "Epoch 55, lr 1e-05:   0%|          | 0/24 [00:00<?, ?it/s]"
     ]
    },
    {
     "name": "stdout",
     "output_type": "stream",
     "text": [
      "Valid loss: 2.54225, jaccard: 0.14680\n"
     ]
    },
    {
     "name": "stderr",
     "output_type": "stream",
     "text": [
      "Epoch 55, lr 1e-05: 100%|██████████| 24/24 [00:01<00:00, 14.43it/s, loss=2.74344]\n",
      "Epoch 56, lr 1e-05:   0%|          | 0/24 [00:00<?, ?it/s]"
     ]
    },
    {
     "name": "stdout",
     "output_type": "stream",
     "text": [
      "Valid loss: 2.54120, jaccard: 0.14680\n"
     ]
    },
    {
     "name": "stderr",
     "output_type": "stream",
     "text": [
      "Epoch 56, lr 1e-05: 100%|██████████| 24/24 [00:01<00:00, 13.80it/s, loss=2.71742]\n",
      "Epoch 57, lr 1e-05:   0%|          | 0/24 [00:00<?, ?it/s]"
     ]
    },
    {
     "name": "stdout",
     "output_type": "stream",
     "text": [
      "Valid loss: 2.54012, jaccard: 0.14680\n"
     ]
    },
    {
     "name": "stderr",
     "output_type": "stream",
     "text": [
      "Epoch 57, lr 1e-05: 100%|██████████| 24/24 [00:01<00:00, 13.97it/s, loss=2.72644]\n",
      "Epoch 58, lr 1e-05:   0%|          | 0/24 [00:00<?, ?it/s]"
     ]
    },
    {
     "name": "stdout",
     "output_type": "stream",
     "text": [
      "Valid loss: 2.53906, jaccard: 0.14680\n"
     ]
    },
    {
     "name": "stderr",
     "output_type": "stream",
     "text": [
      "Epoch 58, lr 1e-05: 100%|██████████| 24/24 [00:01<00:00, 13.89it/s, loss=2.71870]\n",
      "Epoch 59, lr 1e-05:   0%|          | 0/24 [00:00<?, ?it/s]"
     ]
    },
    {
     "name": "stdout",
     "output_type": "stream",
     "text": [
      "Valid loss: 2.53800, jaccard: 0.14680\n"
     ]
    },
    {
     "name": "stderr",
     "output_type": "stream",
     "text": [
      "Epoch 59, lr 1e-05: 100%|██████████| 24/24 [00:01<00:00, 13.49it/s, loss=2.73080]\n",
      "Epoch 60, lr 1e-05:   0%|          | 0/24 [00:00<?, ?it/s]"
     ]
    },
    {
     "name": "stdout",
     "output_type": "stream",
     "text": [
      "Valid loss: 2.53693, jaccard: 0.14680\n"
     ]
    },
    {
     "name": "stderr",
     "output_type": "stream",
     "text": [
      "Epoch 60, lr 1e-05: 100%|██████████| 24/24 [00:01<00:00, 12.20it/s, loss=2.71910]\n",
      "Epoch 61, lr 0.0001:   0%|          | 0/24 [00:00<?, ?it/s]"
     ]
    },
    {
     "name": "stdout",
     "output_type": "stream",
     "text": [
      "Valid loss: 2.53586, jaccard: 0.14680\n",
      "3\n",
      "num train = 24, num_val = 16\n",
      "Restored model, epoch 61, step 7,000\n"
     ]
    },
    {
     "name": "stderr",
     "output_type": "stream",
     "text": [
      "Epoch 61, lr 0.0001: 100%|██████████| 24/24 [00:01<00:00, 13.76it/s, loss=1.71401]\n",
      "Epoch 62, lr 0.0001:   0%|          | 0/24 [00:00<?, ?it/s]"
     ]
    },
    {
     "name": "stdout",
     "output_type": "stream",
     "text": [
      "Valid loss: 2.36328, jaccard: 0.17583\n"
     ]
    },
    {
     "name": "stderr",
     "output_type": "stream",
     "text": [
      "Epoch 62, lr 0.0001: 100%|██████████| 24/24 [00:01<00:00, 14.25it/s, loss=1.69852]\n",
      "Epoch 63, lr 0.0001:   0%|          | 0/24 [00:00<?, ?it/s]"
     ]
    },
    {
     "name": "stdout",
     "output_type": "stream",
     "text": [
      "Valid loss: 2.35343, jaccard: 0.17584\n"
     ]
    },
    {
     "name": "stderr",
     "output_type": "stream",
     "text": [
      "Epoch 63, lr 0.0001: 100%|██████████| 24/24 [00:01<00:00, 13.79it/s, loss=1.68424]\n",
      "Epoch 64, lr 0.0001:   0%|          | 0/24 [00:00<?, ?it/s]"
     ]
    },
    {
     "name": "stdout",
     "output_type": "stream",
     "text": [
      "Valid loss: 2.34390, jaccard: 0.17585\n"
     ]
    },
    {
     "name": "stderr",
     "output_type": "stream",
     "text": [
      "Epoch 64, lr 0.0001: 100%|██████████| 24/24 [00:01<00:00, 14.56it/s, loss=1.68778]\n",
      "Epoch 65, lr 0.0001:   0%|          | 0/24 [00:00<?, ?it/s]"
     ]
    },
    {
     "name": "stdout",
     "output_type": "stream",
     "text": [
      "Valid loss: 2.33428, jaccard: 0.17585\n"
     ]
    },
    {
     "name": "stderr",
     "output_type": "stream",
     "text": [
      "Epoch 65, lr 0.0001: 100%|██████████| 24/24 [00:01<00:00, 14.04it/s, loss=1.67082]\n",
      "Epoch 66, lr 0.0001:   0%|          | 0/24 [00:00<?, ?it/s]"
     ]
    },
    {
     "name": "stdout",
     "output_type": "stream",
     "text": [
      "Valid loss: 2.32463, jaccard: 0.17586\n"
     ]
    },
    {
     "name": "stderr",
     "output_type": "stream",
     "text": [
      "Epoch 66, lr 0.0001: 100%|██████████| 24/24 [00:01<00:00, 13.95it/s, loss=1.67334]\n",
      "Epoch 67, lr 0.0001:   0%|          | 0/24 [00:00<?, ?it/s]"
     ]
    },
    {
     "name": "stdout",
     "output_type": "stream",
     "text": [
      "Valid loss: 2.31505, jaccard: 0.17587\n"
     ]
    },
    {
     "name": "stderr",
     "output_type": "stream",
     "text": [
      "Epoch 67, lr 0.0001: 100%|██████████| 24/24 [00:01<00:00, 14.13it/s, loss=1.66423]\n",
      "Epoch 68, lr 0.0001:   0%|          | 0/24 [00:00<?, ?it/s]"
     ]
    },
    {
     "name": "stdout",
     "output_type": "stream",
     "text": [
      "Valid loss: 2.30542, jaccard: 0.17588\n"
     ]
    },
    {
     "name": "stderr",
     "output_type": "stream",
     "text": [
      "Epoch 68, lr 0.0001: 100%|██████████| 24/24 [00:01<00:00, 13.37it/s, loss=1.66319]\n",
      "Epoch 69, lr 0.0001:   0%|          | 0/24 [00:00<?, ?it/s]"
     ]
    },
    {
     "name": "stdout",
     "output_type": "stream",
     "text": [
      "Valid loss: 2.29566, jaccard: 0.17589\n"
     ]
    },
    {
     "name": "stderr",
     "output_type": "stream",
     "text": [
      "Epoch 69, lr 0.0001: 100%|██████████| 24/24 [00:01<00:00, 13.90it/s, loss=1.65341]\n",
      "Epoch 70, lr 0.0001:   0%|          | 0/24 [00:00<?, ?it/s]"
     ]
    },
    {
     "name": "stdout",
     "output_type": "stream",
     "text": [
      "Valid loss: 2.28621, jaccard: 0.17590\n"
     ]
    },
    {
     "name": "stderr",
     "output_type": "stream",
     "text": [
      "Epoch 70, lr 0.0001: 100%|██████████| 24/24 [00:02<00:00, 11.82it/s, loss=1.64548]\n",
      "Epoch 71, lr 1e-05:   0%|          | 0/24 [00:00<?, ?it/s]"
     ]
    },
    {
     "name": "stdout",
     "output_type": "stream",
     "text": [
      "Valid loss: 2.27666, jaccard: 0.17591\n",
      "num train = 24, num_val = 16\n",
      "Restored model, epoch 71, step 7,060\n"
     ]
    },
    {
     "name": "stderr",
     "output_type": "stream",
     "text": [
      "Epoch 71, lr 1e-05: 100%|██████████| 24/24 [00:01<00:00, 14.80it/s, loss=1.64582]\n",
      "Epoch 72, lr 1e-05:   0%|          | 0/24 [00:00<?, ?it/s]"
     ]
    },
    {
     "name": "stdout",
     "output_type": "stream",
     "text": [
      "Valid loss: 2.27570, jaccard: 0.17591\n"
     ]
    },
    {
     "name": "stderr",
     "output_type": "stream",
     "text": [
      "Epoch 72, lr 1e-05: 100%|██████████| 24/24 [00:01<00:00, 14.04it/s, loss=1.63564]\n",
      "Epoch 73, lr 1e-05:   0%|          | 0/24 [00:00<?, ?it/s]"
     ]
    },
    {
     "name": "stdout",
     "output_type": "stream",
     "text": [
      "Valid loss: 2.27477, jaccard: 0.17591\n"
     ]
    },
    {
     "name": "stderr",
     "output_type": "stream",
     "text": [
      "Epoch 73, lr 1e-05: 100%|██████████| 24/24 [00:01<00:00, 13.83it/s, loss=1.63846]\n",
      "Epoch 74, lr 1e-05:   0%|          | 0/24 [00:00<?, ?it/s]"
     ]
    },
    {
     "name": "stdout",
     "output_type": "stream",
     "text": [
      "Valid loss: 2.27385, jaccard: 0.17591\n"
     ]
    },
    {
     "name": "stderr",
     "output_type": "stream",
     "text": [
      "Epoch 74, lr 1e-05: 100%|██████████| 24/24 [00:01<00:00, 14.63it/s, loss=1.62970]\n",
      "Epoch 75, lr 1e-05:   0%|          | 0/24 [00:00<?, ?it/s]"
     ]
    },
    {
     "name": "stdout",
     "output_type": "stream",
     "text": [
      "Valid loss: 2.27292, jaccard: 0.17591\n"
     ]
    },
    {
     "name": "stderr",
     "output_type": "stream",
     "text": [
      "Epoch 75, lr 1e-05: 100%|██████████| 24/24 [00:01<00:00, 13.86it/s, loss=1.63670]\n",
      "Epoch 76, lr 1e-05:   0%|          | 0/24 [00:00<?, ?it/s]"
     ]
    },
    {
     "name": "stdout",
     "output_type": "stream",
     "text": [
      "Valid loss: 2.27197, jaccard: 0.17591\n"
     ]
    },
    {
     "name": "stderr",
     "output_type": "stream",
     "text": [
      "Epoch 76, lr 1e-05: 100%|██████████| 24/24 [00:01<00:00, 13.77it/s, loss=1.63694]\n",
      "Epoch 77, lr 1e-05:   0%|          | 0/24 [00:00<?, ?it/s]"
     ]
    },
    {
     "name": "stdout",
     "output_type": "stream",
     "text": [
      "Valid loss: 2.27102, jaccard: 0.17591\n"
     ]
    },
    {
     "name": "stderr",
     "output_type": "stream",
     "text": [
      "Epoch 77, lr 1e-05: 100%|██████████| 24/24 [00:01<00:00, 13.94it/s, loss=1.63235]\n",
      "Epoch 78, lr 1e-05:   0%|          | 0/24 [00:00<?, ?it/s]"
     ]
    },
    {
     "name": "stdout",
     "output_type": "stream",
     "text": [
      "Valid loss: 2.27007, jaccard: 0.17591\n"
     ]
    },
    {
     "name": "stderr",
     "output_type": "stream",
     "text": [
      "Epoch 78, lr 1e-05: 100%|██████████| 24/24 [00:01<00:00, 13.96it/s, loss=1.64921]\n",
      "Epoch 79, lr 1e-05:   0%|          | 0/24 [00:00<?, ?it/s]"
     ]
    },
    {
     "name": "stdout",
     "output_type": "stream",
     "text": [
      "Valid loss: 2.26910, jaccard: 0.17591\n"
     ]
    },
    {
     "name": "stderr",
     "output_type": "stream",
     "text": [
      "Epoch 79, lr 1e-05: 100%|██████████| 24/24 [00:01<00:00, 14.60it/s, loss=1.62880]\n",
      "Epoch 80, lr 1e-05:   0%|          | 0/24 [00:00<?, ?it/s]"
     ]
    },
    {
     "name": "stdout",
     "output_type": "stream",
     "text": [
      "Valid loss: 2.26818, jaccard: 0.17591\n"
     ]
    },
    {
     "name": "stderr",
     "output_type": "stream",
     "text": [
      "Epoch 80, lr 1e-05: 100%|██████████| 24/24 [00:01<00:00, 14.06it/s, loss=1.63458]\n",
      "Epoch 81, lr 0.0001:   0%|          | 0/24 [00:00<?, ?it/s]"
     ]
    },
    {
     "name": "stdout",
     "output_type": "stream",
     "text": [
      "Valid loss: 2.26723, jaccard: 0.17591\n",
      "4\n",
      "num train = 24, num_val = 16\n",
      "Restored model, epoch 81, step 7,120\n"
     ]
    },
    {
     "name": "stderr",
     "output_type": "stream",
     "text": [
      "Epoch 81, lr 0.0001: 100%|██████████| 24/24 [00:01<00:00, 14.64it/s, loss=2.79035]\n",
      "Epoch 82, lr 0.0001:   0%|          | 0/24 [00:00<?, ?it/s]"
     ]
    },
    {
     "name": "stdout",
     "output_type": "stream",
     "text": [
      "Valid loss: 2.73795, jaccard: 0.11112\n"
     ]
    },
    {
     "name": "stderr",
     "output_type": "stream",
     "text": [
      "Epoch 82, lr 0.0001: 100%|██████████| 24/24 [00:01<00:00, 14.94it/s, loss=2.76852]\n",
      "Epoch 83, lr 0.0001:   0%|          | 0/24 [00:00<?, ?it/s]"
     ]
    },
    {
     "name": "stdout",
     "output_type": "stream",
     "text": [
      "Valid loss: 2.72544, jaccard: 0.11113\n"
     ]
    },
    {
     "name": "stderr",
     "output_type": "stream",
     "text": [
      "Epoch 83, lr 0.0001: 100%|██████████| 24/24 [00:01<00:00, 14.62it/s, loss=2.74981]\n",
      "Epoch 84, lr 0.0001:   0%|          | 0/24 [00:00<?, ?it/s]"
     ]
    },
    {
     "name": "stdout",
     "output_type": "stream",
     "text": [
      "Valid loss: 2.71292, jaccard: 0.11114\n"
     ]
    },
    {
     "name": "stderr",
     "output_type": "stream",
     "text": [
      "Epoch 84, lr 0.0001: 100%|██████████| 24/24 [00:01<00:00, 14.08it/s, loss=2.73733]\n",
      "Epoch 85, lr 0.0001:   0%|          | 0/24 [00:00<?, ?it/s]"
     ]
    },
    {
     "name": "stdout",
     "output_type": "stream",
     "text": [
      "Valid loss: 2.70051, jaccard: 0.11115\n"
     ]
    },
    {
     "name": "stderr",
     "output_type": "stream",
     "text": [
      "Epoch 85, lr 0.0001: 100%|██████████| 24/24 [00:01<00:00, 13.47it/s, loss=2.73358]\n",
      "Epoch 86, lr 0.0001:   0%|          | 0/24 [00:00<?, ?it/s]"
     ]
    },
    {
     "name": "stdout",
     "output_type": "stream",
     "text": [
      "Valid loss: 2.68783, jaccard: 0.11115\n"
     ]
    },
    {
     "name": "stderr",
     "output_type": "stream",
     "text": [
      "Epoch 86, lr 0.0001: 100%|██████████| 24/24 [00:01<00:00, 14.71it/s, loss=2.71278]\n",
      "Epoch 87, lr 0.0001:   0%|          | 0/24 [00:00<?, ?it/s]"
     ]
    },
    {
     "name": "stdout",
     "output_type": "stream",
     "text": [
      "Valid loss: 2.67507, jaccard: 0.11117\n"
     ]
    },
    {
     "name": "stderr",
     "output_type": "stream",
     "text": [
      "Epoch 87, lr 0.0001: 100%|██████████| 24/24 [00:01<00:00, 14.39it/s, loss=2.69813]\n",
      "Epoch 88, lr 0.0001:   0%|          | 0/24 [00:00<?, ?it/s]"
     ]
    },
    {
     "name": "stdout",
     "output_type": "stream",
     "text": [
      "Valid loss: 2.66282, jaccard: 0.11117\n"
     ]
    },
    {
     "name": "stderr",
     "output_type": "stream",
     "text": [
      "Epoch 88, lr 0.0001: 100%|██████████| 24/24 [00:01<00:00, 14.02it/s, loss=2.70299]\n",
      "Epoch 89, lr 0.0001:   0%|          | 0/24 [00:00<?, ?it/s]"
     ]
    },
    {
     "name": "stdout",
     "output_type": "stream",
     "text": [
      "Valid loss: 2.65044, jaccard: 0.11118\n"
     ]
    },
    {
     "name": "stderr",
     "output_type": "stream",
     "text": [
      "Epoch 89, lr 0.0001: 100%|██████████| 24/24 [00:01<00:00, 14.35it/s, loss=2.66759]\n",
      "Epoch 90, lr 0.0001:   0%|          | 0/24 [00:00<?, ?it/s]"
     ]
    },
    {
     "name": "stdout",
     "output_type": "stream",
     "text": [
      "Valid loss: 2.63803, jaccard: 0.11119\n"
     ]
    },
    {
     "name": "stderr",
     "output_type": "stream",
     "text": [
      "Epoch 90, lr 0.0001: 100%|██████████| 24/24 [00:01<00:00, 14.31it/s, loss=2.65640]\n",
      "Epoch 91, lr 1e-05:   0%|          | 0/24 [00:00<?, ?it/s]"
     ]
    },
    {
     "name": "stdout",
     "output_type": "stream",
     "text": [
      "Valid loss: 2.62549, jaccard: 0.11120\n",
      "num train = 24, num_val = 16\n",
      "Restored model, epoch 91, step 7,180\n"
     ]
    },
    {
     "name": "stderr",
     "output_type": "stream",
     "text": [
      "Epoch 91, lr 1e-05: 100%|██████████| 24/24 [00:01<00:00, 14.39it/s, loss=2.65597]\n",
      "Epoch 92, lr 1e-05:   0%|          | 0/24 [00:00<?, ?it/s]"
     ]
    },
    {
     "name": "stdout",
     "output_type": "stream",
     "text": [
      "Valid loss: 2.62424, jaccard: 0.11120\n"
     ]
    },
    {
     "name": "stderr",
     "output_type": "stream",
     "text": [
      "Epoch 92, lr 1e-05: 100%|██████████| 24/24 [00:01<00:00, 13.47it/s, loss=2.64437]\n",
      "Epoch 93, lr 1e-05:   0%|          | 0/24 [00:00<?, ?it/s]"
     ]
    },
    {
     "name": "stdout",
     "output_type": "stream",
     "text": [
      "Valid loss: 2.62298, jaccard: 0.11120\n"
     ]
    },
    {
     "name": "stderr",
     "output_type": "stream",
     "text": [
      "Epoch 93, lr 1e-05: 100%|██████████| 24/24 [00:01<00:00, 13.85it/s, loss=2.64713]\n",
      "Epoch 94, lr 1e-05:   0%|          | 0/24 [00:00<?, ?it/s]"
     ]
    },
    {
     "name": "stdout",
     "output_type": "stream",
     "text": [
      "Valid loss: 2.62172, jaccard: 0.11120\n"
     ]
    },
    {
     "name": "stderr",
     "output_type": "stream",
     "text": [
      "Epoch 94, lr 1e-05: 100%|██████████| 24/24 [00:01<00:00, 15.11it/s, loss=2.65926]\n",
      "Epoch 95, lr 1e-05:   0%|          | 0/24 [00:00<?, ?it/s]"
     ]
    },
    {
     "name": "stdout",
     "output_type": "stream",
     "text": [
      "Valid loss: 2.62046, jaccard: 0.11120\n"
     ]
    },
    {
     "name": "stderr",
     "output_type": "stream",
     "text": [
      "Epoch 95, lr 1e-05: 100%|██████████| 24/24 [00:01<00:00, 13.83it/s, loss=2.64185]\n",
      "Epoch 96, lr 1e-05:   0%|          | 0/24 [00:00<?, ?it/s]"
     ]
    },
    {
     "name": "stdout",
     "output_type": "stream",
     "text": [
      "Valid loss: 2.61921, jaccard: 0.11120\n"
     ]
    },
    {
     "name": "stderr",
     "output_type": "stream",
     "text": [
      "Epoch 96, lr 1e-05: 100%|██████████| 24/24 [00:01<00:00, 14.20it/s, loss=2.66385]\n",
      "Epoch 97, lr 1e-05:   0%|          | 0/24 [00:00<?, ?it/s]"
     ]
    },
    {
     "name": "stdout",
     "output_type": "stream",
     "text": [
      "Valid loss: 2.61795, jaccard: 0.11120\n"
     ]
    },
    {
     "name": "stderr",
     "output_type": "stream",
     "text": [
      "Epoch 97, lr 1e-05: 100%|██████████| 24/24 [00:01<00:00, 14.63it/s, loss=2.63432]\n",
      "Epoch 98, lr 1e-05:   0%|          | 0/24 [00:00<?, ?it/s]"
     ]
    },
    {
     "name": "stdout",
     "output_type": "stream",
     "text": [
      "Valid loss: 2.61671, jaccard: 0.11120\n"
     ]
    },
    {
     "name": "stderr",
     "output_type": "stream",
     "text": [
      "Epoch 98, lr 1e-05: 100%|██████████| 24/24 [00:01<00:00, 14.06it/s, loss=2.63901]\n",
      "Epoch 99, lr 1e-05:   0%|          | 0/24 [00:00<?, ?it/s]"
     ]
    },
    {
     "name": "stdout",
     "output_type": "stream",
     "text": [
      "Valid loss: 2.61545, jaccard: 0.11120\n"
     ]
    },
    {
     "name": "stderr",
     "output_type": "stream",
     "text": [
      "Epoch 99, lr 1e-05: 100%|██████████| 24/24 [00:01<00:00, 14.75it/s, loss=2.64350]\n",
      "Epoch 100, lr 1e-05:   0%|          | 0/24 [00:00<?, ?it/s]"
     ]
    },
    {
     "name": "stdout",
     "output_type": "stream",
     "text": [
      "Valid loss: 2.61419, jaccard: 0.11120\n"
     ]
    },
    {
     "name": "stderr",
     "output_type": "stream",
     "text": [
      "Epoch 100, lr 1e-05: 100%|██████████| 24/24 [00:01<00:00, 14.94it/s, loss=2.64500]\n"
     ]
    },
    {
     "name": "stdout",
     "output_type": "stream",
     "text": [
      "Valid loss: 2.61293, jaccard: 0.11120\n"
     ]
    }
   ],
   "source": [
    "jaccard_weight = 0.3\n",
    "#fold = 1\n",
    "root = !pwd\n",
    "root = root[0]\n",
    "batch_size = 4\n",
    "n_epochs = 20\n",
    "lr = 0.0001\n",
    "num_workers = 12\n",
    "train_size = 0.6\n",
    "for fold in range(1,5) :\n",
    "  print(fold)\n",
    "  train(model, \"unet11\", 0, \"ft\", jaccard_weight, fold, root, batch_size, n_epochs+10, lr1, num_workers, 1, train_size)\n",
    "  train(model, \"unet11\", 0, \"ft\", jaccard_weight, fold, root, batch_size, n_epochs+20, lr2, num_workers, 1, train_size)\n",
    "  n_epochs = n_epochs+20"
   ]
  },
  {
   "cell_type": "code",
   "execution_count": 19,
   "metadata": {
    "colab": {},
    "colab_type": "code",
    "executionInfo": {
     "elapsed": 8618,
     "status": "ok",
     "timestamp": 1601399546427,
     "user": {
      "displayName": "Clara Tomasini",
      "photoUrl": "",
      "userId": "02923575374060854257"
     },
     "user_tz": -120
    },
    "id": "e8ZOm7QhKcJ-"
   },
   "outputs": [],
   "source": [
    "model_ent_path = 'data/models_ft/unet11_binary_20/model_0_ent.pt'\n",
    "model_ent = get_model(model_ent_path, model_type='UNet11', problem_type='binary')\n",
    "\n",
    "model_path = 'data/models/unet11_binary_20/model_0.pt'\n",
    "model = get_model(model_path, model_type='UNet11', problem_type='binary')\n",
    "\n",
    "model_ft_path = 'data/models_ft/unet11_binary_20/model_0_ft.pt'\n",
    "model_ft = get_model(model_ft_path, model_type='UNet11', problem_type='binary')"
   ]
  },
  {
   "cell_type": "code",
   "execution_count": 20,
   "metadata": {
    "colab": {
     "base_uri": "https://localhost:8080/",
     "height": 189
    },
    "colab_type": "code",
    "executionInfo": {
     "elapsed": 1560,
     "status": "ok",
     "timestamp": 1601399550236,
     "user": {
      "displayName": "Clara Tomasini",
      "photoUrl": "",
      "userId": "02923575374060854257"
     },
     "user_tz": -120
    },
    "id": "FZimNYodLgpL",
    "outputId": "1c9c73d0-d588-413d-d3db-c94ab2cb12a7"
   },
   "outputs": [
    {
     "data": {
      "image/png": "[encoded data removed]",
      "text/plain": [
       "<Figure size 1440x1440 with 5 Axes>"
      ]
     },
     "metadata": {
      "tags": []
     },
     "output_type": "display_data"
    }
   ],
   "source": [
    "img_file_name = 'data/Training/OP1/Raw/img_02_raw.png'\n",
    "image = load_image(img_file_name)\n",
    "H,W,C = image.shape\n",
    "with torch.no_grad():\n",
    "    input_image = torch.unsqueeze(img_to_tensor(img_transform(p=1)(image=image)['image']).cuda(), dim=0)\n",
    "\n",
    "mask_dataset = load_image('data/Training/OP1/Masks/img_02_class.png')\n",
    "mask_dataset = sum(mask_dataset,2)\n",
    "\n",
    "plt.figure(figsize=(20,20))\n",
    "plt.subplot(151) # Original image\n",
    "plt.xticks([])\n",
    "plt.yticks([])\n",
    "plt.grid(False)\n",
    "imshow(image)\n",
    "plt.xlabel('Original image')\n",
    "\n",
    "plt.subplot(152) # Ground truth\n",
    "plt.xticks([])\n",
    "plt.yticks([])\n",
    "plt.grid(False)\n",
    "imshow(mask_overlay(image, (mask_dataset > 0).astype(np.uint8)))\n",
    "plt.xlabel('Manual segmentation')\n",
    "\n",
    "plt.subplot(153) # Model before training\n",
    "mask_before = model(input_image)\n",
    "mask_b = mask_before.data[0].cpu().numpy()[0]\n",
    "plt.xticks([])\n",
    "plt.yticks([])\n",
    "plt.grid(False)\n",
    "imshow(mask_overlay(image, (mask_b > 0).astype(np.uint8)))\n",
    "plt.xlabel('Segmentation - Untrained model')\n",
    "\n",
    "plt.subplot(154) # Trained model\n",
    "mask_after = model_ent(input_image)\n",
    "mask_a = mask_after.data[0].cpu().numpy()[0]\n",
    "plt.xticks([])\n",
    "plt.yticks([])\n",
    "plt.grid(False)\n",
    "imshow(mask_overlay(image, (mask_a > 0).astype(np.uint8)))\n",
    "plt.xlabel('Segmentation - Trained model')\n",
    "\n",
    "plt.subplot(155) # Fine-tuned model\n",
    "mask_ft = model_ft(input_image)\n",
    "mask_f = mask_ft.data[0].cpu().numpy()[0]\n",
    "plt.xticks([])\n",
    "plt.yticks([])\n",
    "plt.grid(False)\n",
    "imshow(mask_overlay(image, (mask_f > 0).astype(np.uint8)))\n",
    "plt.xlabel('Segmentation - Fine-tuned model')\n",
    "\n",
    "plt.show()"
   ]
  },
  {
   "cell_type": "code",
   "execution_count": null,
   "metadata": {
    "colab": {},
    "colab_type": "code",
    "id": "LI63h-nx2eoc"
   },
   "outputs": [],
   "source": []
  }
 ],
 "metadata": {
  "accelerator": "GPU",
  "colab": {
   "collapsed_sections": [],
   "name": "tarea.ipynb",
   "provenance": []
  },
  "kernelspec": {
   "display_name": "Python 3",
   "language": "python",
   "name": "python3"
  },
  "language_info": {
   "codemirror_mode": {
    "name": "ipython",
    "version": 3
   },
   "file_extension": ".py",
   "mimetype": "text/x-python",
   "name": "python",
   "nbconvert_exporter": "python",
   "pygments_lexer": "ipython3",
   "version": "3.7.1"
  }
 },
 "nbformat": 4,
 "nbformat_minor": 1
}
