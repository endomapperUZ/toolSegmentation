{
 "cells": [
  {
   "cell_type": "code",
   "execution_count": 1,
   "metadata": {
    "colab": {
     "base_uri": "https://localhost:8080/",
     "height": 34
    },
    "executionInfo": {
     "elapsed": 4383,
     "status": "ok",
     "timestamp": 1603024081238,
     "user": {
      "displayName": "Clara Tomasini",
      "photoUrl": "",
      "userId": "02923575374060854257"
     },
     "user_tz": -120
    },
    "id": "uC0eJmwkYTAh",
    "outputId": "048fd103-9b85-476c-eac7-834af3eb3672"
   },
   "outputs": [
    {
     "name": "stdout",
     "output_type": "stream",
     "text": [
      "/content/drive/Shared drives/TFM_Clara/6_robot-surgery-segmentation-master/data/video13_masks\n"
     ]
    }
   ],
   "source": [
    "import numpy as np\n",
    "import cv2\n",
    "import matplotlib.pyplot as plt\n",
    "from PIL import Image"
   ]
  },
  {
   "cell_type": "code",
   "execution_count": 2,
   "metadata": {
    "executionInfo": {
     "elapsed": 4369,
     "status": "ok",
     "timestamp": 1603024081241,
     "user": {
      "displayName": "Clara Tomasini",
      "photoUrl": "",
      "userId": "02923575374060854257"
     },
     "user_tz": -120
    },
    "id": "yEfSTK3BY_t5"
   },
   "outputs": [],
   "source": [
    "from xml.dom import minidom"
   ]
  },
  {
   "cell_type": "code",
   "execution_count": 4,
   "metadata": {
    "executionInfo": {
     "elapsed": 2759,
     "status": "ok",
     "timestamp": 1603024100814,
     "user": {
      "displayName": "Clara Tomasini",
      "photoUrl": "",
      "userId": "02923575374060854257"
     },
     "user_tz": -120
    },
    "id": "12CryGoJZEg3"
   },
   "outputs": [],
   "source": [
    "mydoc = minidom.parse('1587_Tools_anotation_Video13.xml')"
   ]
  },
  {
   "cell_type": "code",
   "execution_count": 5,
   "metadata": {
    "executionInfo": {
     "elapsed": 1011,
     "status": "ok",
     "timestamp": 1603024102252,
     "user": {
      "displayName": "Clara Tomasini",
      "photoUrl": "",
      "userId": "02923575374060854257"
     },
     "user_tz": -120
    },
    "id": "i-5hkz1BaZ7R"
   },
   "outputs": [],
   "source": [
    "width = mydoc.getElementsByTagName('width')\n",
    "height = mydoc.getElementsByTagName('height')\n",
    "w = int(width[0].firstChild.data)\n",
    "h = int(height[0].firstChild.data)\n",
    "shape = (int(h),int(w))"
   ]
  },
  {
   "cell_type": "code",
   "execution_count": 15,
   "metadata": {
    "colab": {
     "base_uri": "https://localhost:8080/",
     "height": 398
    },
    "executionInfo": {
     "elapsed": 1057,
     "status": "ok",
     "timestamp": 1603024429958,
     "user": {
      "displayName": "Clara Tomasini",
      "photoUrl": "",
      "userId": "02923575374060854257"
     },
     "user_tz": -120
    },
    "id": "-wg9z1k9fYdy",
    "outputId": "cf4a350d-66d6-458b-fafd-1096b162ccf8"
   },
   "outputs": [
    {
     "name": "stdout",
     "output_type": "stream",
     "text": [
      "mask_0006.png\n",
      "mask_0007.png\n",
      "mask_0008.png\n",
      "mask_0009.png\n",
      "mask_0010.png\n",
      "mask_0011.png\n",
      "mask_0012.png\n",
      "mask_0013.png\n",
      "mask_0014.png\n",
      "mask_0015.png\n",
      "mask_0016.png\n",
      "mask_0017.png\n",
      "mask_0018.png\n",
      "mask_0019.png\n",
      "mask_0020.png\n",
      "mask_0021.png\n",
      "mask_0022.png\n",
      "mask_0001.png\n",
      "mask_0002.png\n",
      "mask_0003.png\n",
      "mask_0004.png\n",
      "mask_0005.png\n"
     ]
    }
   ],
   "source": [
    "masks = []\n",
    "for id in range(2,tracks.length):\n",
    "  polygons = tracks[id].getElementsByTagName('polyline')\n",
    "  frame = polygons[1].getAttribute('frame')\n",
    "  points = polygons[0].getAttribute('points').split(';')\n",
    "  for i in range(len(points)):\n",
    "    points[i] = points[i].split(',')\n",
    "    points[i][0] = round(float(points[i][0]))\n",
    "    points[i][1] = round(float(points[i][1]))\n",
    "  points = np.array([points],dtype='int32')\n",
    "  mask = np.zeros(shape,dtype=np.uint8)\n",
    "  cv2.fillPoly(mask, points, 255)\n",
    "  mask = mask[:1056,:]\n",
    "  num_frame = '{:04d}'.format(int(frame))\n",
    "  print(\"mask_\"+str(num_frame)+\".png\")\n",
    "  cv2.imwrite(\"mask_\"+str(num_frame)+\".png\", mask)\n",
    "  masks.append(mask)"
   ]
  }
 ],
 "metadata": {
  "colab": {
   "authorship_tag": "ABX9TyMb2M5+YlAM7zPi5SEV+EH/",
   "mount_file_id": "1oxIBGIUsZrqEdB1tdjw9nXSDuDr6Ci_u",
   "name": "masks_xml.ipynb",
   "provenance": []
  },
  "kernelspec": {
   "display_name": "Python 3",
   "language": "python",
   "name": "python3"
  },
  "language_info": {
   "codemirror_mode": {
    "name": "ipython",
    "version": 3
   },
   "file_extension": ".py",
   "mimetype": "text/x-python",
   "name": "python",
   "nbconvert_exporter": "python",
   "pygments_lexer": "ipython3",
   "version": "3.7.1"
  }
 },
 "nbformat": 4,
 "nbformat_minor": 1
}
